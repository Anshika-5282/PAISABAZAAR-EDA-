{
 "cells": [
  {
   "cell_type": "markdown",
   "id": "10354b05-62ac-42a9-b508-db010ccd59de",
   "metadata": {},
   "source": [
    "<CENTER> <H1> PAISABAZAAR EXPLORATORY DATA ANALYSIS (EDA) </H1> </CENTER>"
   ]
  },
  {
   "cell_type": "markdown",
   "id": "bf48f85a-2a1f-49c7-8072-b88177915303",
   "metadata": {},
   "source": [
    "CONTRIBUTION - INDIVIDUAL"
   ]
  },
  {
   "cell_type": "markdown",
   "id": "0dab0a15-7a16-4ccc-8c8a-f718b1fc81ab",
   "metadata": {},
   "source": [
    "# Project Summary :-"
   ]
  },
  {
   "cell_type": "markdown",
   "id": "4294e75d-e434-4d28-b11c-ce2b7c2960e9",
   "metadata": {},
   "source": [
    "This project is an exploratory data analysis (EDA) conducted on the Paisabazaar dataset, which consists of 100,000 records and 28 features. The dataset provides a wide range of information about customers, including their demographics, income, financial activities, repayment behavior, and credit-related attributes. The main purpose of this analysis was to understand the factors that affect a customer’s credit score, which has been classified into three categories: Good, Standard, and Poor.\n",
    "\n",
    "* Dataset Overview\n",
    "\n",
    "The dataset covers diverse customer characteristics such as Age, Occupation, Annual Income, Monthly Salary, Number of Bank Accounts, Number of Loans, Number of Credit Cards, Credit History Age, Outstanding Debt, Credit Utilization Ratio, Monthly Balance, Payment of Minimum Amount, and ultimately the Credit Score. This combination of demographic and financial data makes it suitable for studying patterns in customer behavior and creditworthiness.\n",
    "\n",
    "* Demographics and Income\n",
    "\n",
    "The analysis showed that a majority of the customers fall between the 21 to 40 age range, which reflects the financially active group who usually handle loans, credit cards, and bank accounts. Although incomes and salaries vary across the dataset, the study revealed that income alone does not guarantee a good credit score. A customer may earn well, but if repayment habits and debt management are poor, the credit score will still be negatively affected.\n",
    "\n",
    "* Bank Accounts and Loans\n",
    "\n",
    "The number of bank accounts held by customers typically ranged between 2 and 7 accounts. This suggests that most customers diversify their financial activities across multiple banks. However, the number of loans carried by a customer plays a significant role in their credit score. Customers with too many loans often struggle to manage repayments and are more likely to fall into the Standard or Poor credit score categories.\n",
    "\n",
    "* Credit Cards\n",
    "\n",
    "A considerable number of customers own 3 to 6 credit cards, which appears to be a manageable range. However, customers who hold more than 8 credit cards generally experience a decline in their credit scores. This is likely because multiple cards lead to higher utilization and difficulty in making timely repayments.\n",
    "\n",
    "* Credit History Age\n",
    "\n",
    "One of the strongest factors influencing credit scores is credit history age. Customers with longer credit histories are more likely to have Good credit scores, as this demonstrates consistent financial activity and repayment discipline. On the other hand, individuals with shorter or very recent credit histories mostly fall under Standard or Poor scores. This shows the importance of maintaining credit lines over time to build a strong financial reputation.\n",
    "\n",
    "* Payment Behavior\n",
    "\n",
    "Another critical factor is the way customers manage repayments. The analysis revealed that customers who regularly pay only the minimum amount due on credit cards are at a much higher risk of having a Poor credit score. In contrast, customers who pay their dues in full or in larger amounts are strongly associated with Good credit scores. This highlights how repayment discipline directly affects creditworthiness.\n",
    "\n",
    "* Outstanding Debt and Utilization Ratio\n",
    "\n",
    "The study also found that customers with high outstanding debt and high credit utilization ratios generally fall into the Poor category. Credit utilization, which measures how much of the available credit is being used, is a crucial indicator of financial health. Customers with lower utilization ratios are more likely to maintain Good scores, while those maxing out their credit limits suffer a negative impact.\n",
    "\n",
    "Conclusion :-\n",
    "\n",
    "From this analysis, it is clear that a good credit score is not only about high income but about responsible financial behavior. The strongest factors linked to a good credit score include:\n",
    "* Maintaining a longer credit history\n",
    "* Keeping outstanding debt and credit utilization low\n",
    "* Paying dues on time and in full\n",
    "* Avoiding too many loans or credit cards\n",
    "\n",
    "On the other hand, poor repayment behavior, over-dependence on credit, and short credit histories contribute to Standard or Poor credit scores.\n",
    "\n",
    "In simple words, good financial discipline and consistent repayment habits matter more than how much money a person earns. Customers who balance their credit usage, manage loans wisely, and build long-term credit histories are rewarded with better credit scores, while those with careless financial behavior face the risk of poor credit standing."
   ]
  },
  {
   "cell_type": "code",
   "execution_count": null,
   "id": "ac3961bc-fc81-497a-b415-421c2cbddb53",
   "metadata": {},
   "outputs": [],
   "source": []
  },
  {
   "cell_type": "markdown",
   "id": "4b0454a2-8c1d-4de2-9641-e8ddd99d02fd",
   "metadata": {},
   "source": [
    "# Importing the Libraries"
   ]
  },
  {
   "cell_type": "code",
   "execution_count": 4,
   "id": "50ac667a-0f54-4cbf-84d7-5df377e2aaaa",
   "metadata": {},
   "outputs": [],
   "source": [
    "import numpy as np\n",
    "import pandas as pd \n",
    "import seaborn as sns\n",
    "from matplotlib import pyplot as plt\n",
    "import warnings\n",
    "warnings.filterwarnings('ignore')"
   ]
  },
  {
   "cell_type": "markdown",
   "id": "3fb4867d-c5c5-4c6f-b3e8-46d9573bff04",
   "metadata": {},
   "source": [
    "# Loading the Dataset"
   ]
  },
  {
   "cell_type": "code",
   "execution_count": 6,
   "id": "bf3c06ff-40c9-4c33-8b31-5c09771caa90",
   "metadata": {},
   "outputs": [
    {
     "name": "stdout",
     "output_type": "stream",
     "text": [
      "Data Loaded Successfully !!\n"
     ]
    }
   ],
   "source": [
    "df = pd.read_csv(r\"C:\\Users\\pc\\Desktop\\Internship\\Project 1\\dataset-2.csv\")\n",
    "print(\"Data Loaded Successfully !!\")                                        # loading the dataset"
   ]
  },
  {
   "cell_type": "code",
   "execution_count": null,
   "id": "18531688-e168-467c-9fbb-439cb5adb1d6",
   "metadata": {},
   "outputs": [],
   "source": []
  },
  {
   "cell_type": "markdown",
   "id": "5d1faf2e-c51a-4e43-9729-3682ff134271",
   "metadata": {},
   "source": [
    "## Shape of Dataset"
   ]
  },
  {
   "cell_type": "code",
   "execution_count": 8,
   "id": "3ae1f567-a838-4e95-b207-5c89b9a92e56",
   "metadata": {},
   "outputs": [
    {
     "name": "stdout",
     "output_type": "stream",
     "text": [
      "No of Rows: 100000\n",
      "No of Columns: 28\n"
     ]
    }
   ],
   "source": [
    "r,c = df.shape\n",
    "print(f'No of Rows: {r}\\nNo of Columns: {c}')                          # to know the number of rows and columns"
   ]
  },
  {
   "cell_type": "markdown",
   "id": "8a240a33-7895-400a-9db4-8bedb2b673d6",
   "metadata": {},
   "source": [
    "## Top Rows"
   ]
  },
  {
   "cell_type": "code",
   "execution_count": 10,
   "id": "23d35150-9253-49d1-ba79-3fd3b2f8276c",
   "metadata": {},
   "outputs": [
    {
     "data": {
      "text/html": [
       "<div>\n",
       "<style scoped>\n",
       "    .dataframe tbody tr th:only-of-type {\n",
       "        vertical-align: middle;\n",
       "    }\n",
       "\n",
       "    .dataframe tbody tr th {\n",
       "        vertical-align: top;\n",
       "    }\n",
       "\n",
       "    .dataframe thead th {\n",
       "        text-align: right;\n",
       "    }\n",
       "</style>\n",
       "<table border=\"1\" class=\"dataframe\">\n",
       "  <thead>\n",
       "    <tr style=\"text-align: right;\">\n",
       "      <th></th>\n",
       "      <th>ID</th>\n",
       "      <th>Customer_ID</th>\n",
       "      <th>Month</th>\n",
       "      <th>Name</th>\n",
       "      <th>Age</th>\n",
       "      <th>SSN</th>\n",
       "      <th>Occupation</th>\n",
       "      <th>Annual_Income</th>\n",
       "      <th>Monthly_Inhand_Salary</th>\n",
       "      <th>Num_Bank_Accounts</th>\n",
       "      <th>...</th>\n",
       "      <th>Credit_Mix</th>\n",
       "      <th>Outstanding_Debt</th>\n",
       "      <th>Credit_Utilization_Ratio</th>\n",
       "      <th>Credit_History_Age</th>\n",
       "      <th>Payment_of_Min_Amount</th>\n",
       "      <th>Total_EMI_per_month</th>\n",
       "      <th>Amount_invested_monthly</th>\n",
       "      <th>Payment_Behaviour</th>\n",
       "      <th>Monthly_Balance</th>\n",
       "      <th>Credit_Score</th>\n",
       "    </tr>\n",
       "  </thead>\n",
       "  <tbody>\n",
       "    <tr>\n",
       "      <th>0</th>\n",
       "      <td>5634</td>\n",
       "      <td>3392</td>\n",
       "      <td>1</td>\n",
       "      <td>Aaron Maashoh</td>\n",
       "      <td>23.0</td>\n",
       "      <td>821000265.0</td>\n",
       "      <td>Scientist</td>\n",
       "      <td>19114.12</td>\n",
       "      <td>1824.843333</td>\n",
       "      <td>3.0</td>\n",
       "      <td>...</td>\n",
       "      <td>Good</td>\n",
       "      <td>809.98</td>\n",
       "      <td>26.822620</td>\n",
       "      <td>265.0</td>\n",
       "      <td>No</td>\n",
       "      <td>49.574949</td>\n",
       "      <td>21.46538</td>\n",
       "      <td>High_spent_Small_value_payments</td>\n",
       "      <td>312.494089</td>\n",
       "      <td>Good</td>\n",
       "    </tr>\n",
       "    <tr>\n",
       "      <th>1</th>\n",
       "      <td>5635</td>\n",
       "      <td>3392</td>\n",
       "      <td>2</td>\n",
       "      <td>Aaron Maashoh</td>\n",
       "      <td>23.0</td>\n",
       "      <td>821000265.0</td>\n",
       "      <td>Scientist</td>\n",
       "      <td>19114.12</td>\n",
       "      <td>1824.843333</td>\n",
       "      <td>3.0</td>\n",
       "      <td>...</td>\n",
       "      <td>Good</td>\n",
       "      <td>809.98</td>\n",
       "      <td>31.944960</td>\n",
       "      <td>266.0</td>\n",
       "      <td>No</td>\n",
       "      <td>49.574949</td>\n",
       "      <td>21.46538</td>\n",
       "      <td>Low_spent_Large_value_payments</td>\n",
       "      <td>284.629162</td>\n",
       "      <td>Good</td>\n",
       "    </tr>\n",
       "    <tr>\n",
       "      <th>2</th>\n",
       "      <td>5636</td>\n",
       "      <td>3392</td>\n",
       "      <td>3</td>\n",
       "      <td>Aaron Maashoh</td>\n",
       "      <td>23.0</td>\n",
       "      <td>821000265.0</td>\n",
       "      <td>Scientist</td>\n",
       "      <td>19114.12</td>\n",
       "      <td>1824.843333</td>\n",
       "      <td>3.0</td>\n",
       "      <td>...</td>\n",
       "      <td>Good</td>\n",
       "      <td>809.98</td>\n",
       "      <td>28.609352</td>\n",
       "      <td>267.0</td>\n",
       "      <td>No</td>\n",
       "      <td>49.574949</td>\n",
       "      <td>21.46538</td>\n",
       "      <td>Low_spent_Medium_value_payments</td>\n",
       "      <td>331.209863</td>\n",
       "      <td>Good</td>\n",
       "    </tr>\n",
       "    <tr>\n",
       "      <th>3</th>\n",
       "      <td>5637</td>\n",
       "      <td>3392</td>\n",
       "      <td>4</td>\n",
       "      <td>Aaron Maashoh</td>\n",
       "      <td>23.0</td>\n",
       "      <td>821000265.0</td>\n",
       "      <td>Scientist</td>\n",
       "      <td>19114.12</td>\n",
       "      <td>1824.843333</td>\n",
       "      <td>3.0</td>\n",
       "      <td>...</td>\n",
       "      <td>Good</td>\n",
       "      <td>809.98</td>\n",
       "      <td>31.377862</td>\n",
       "      <td>268.0</td>\n",
       "      <td>No</td>\n",
       "      <td>49.574949</td>\n",
       "      <td>21.46538</td>\n",
       "      <td>Low_spent_Small_value_payments</td>\n",
       "      <td>223.451310</td>\n",
       "      <td>Good</td>\n",
       "    </tr>\n",
       "    <tr>\n",
       "      <th>4</th>\n",
       "      <td>5638</td>\n",
       "      <td>3392</td>\n",
       "      <td>5</td>\n",
       "      <td>Aaron Maashoh</td>\n",
       "      <td>23.0</td>\n",
       "      <td>821000265.0</td>\n",
       "      <td>Scientist</td>\n",
       "      <td>19114.12</td>\n",
       "      <td>1824.843333</td>\n",
       "      <td>3.0</td>\n",
       "      <td>...</td>\n",
       "      <td>Good</td>\n",
       "      <td>809.98</td>\n",
       "      <td>24.797347</td>\n",
       "      <td>269.0</td>\n",
       "      <td>No</td>\n",
       "      <td>49.574949</td>\n",
       "      <td>21.46538</td>\n",
       "      <td>High_spent_Medium_value_payments</td>\n",
       "      <td>341.489231</td>\n",
       "      <td>Good</td>\n",
       "    </tr>\n",
       "  </tbody>\n",
       "</table>\n",
       "<p>5 rows × 28 columns</p>\n",
       "</div>"
      ],
      "text/plain": [
       "     ID  Customer_ID  Month           Name   Age          SSN Occupation  \\\n",
       "0  5634         3392      1  Aaron Maashoh  23.0  821000265.0  Scientist   \n",
       "1  5635         3392      2  Aaron Maashoh  23.0  821000265.0  Scientist   \n",
       "2  5636         3392      3  Aaron Maashoh  23.0  821000265.0  Scientist   \n",
       "3  5637         3392      4  Aaron Maashoh  23.0  821000265.0  Scientist   \n",
       "4  5638         3392      5  Aaron Maashoh  23.0  821000265.0  Scientist   \n",
       "\n",
       "   Annual_Income  Monthly_Inhand_Salary  Num_Bank_Accounts  ...  Credit_Mix  \\\n",
       "0       19114.12            1824.843333                3.0  ...        Good   \n",
       "1       19114.12            1824.843333                3.0  ...        Good   \n",
       "2       19114.12            1824.843333                3.0  ...        Good   \n",
       "3       19114.12            1824.843333                3.0  ...        Good   \n",
       "4       19114.12            1824.843333                3.0  ...        Good   \n",
       "\n",
       "   Outstanding_Debt  Credit_Utilization_Ratio Credit_History_Age  \\\n",
       "0            809.98                 26.822620              265.0   \n",
       "1            809.98                 31.944960              266.0   \n",
       "2            809.98                 28.609352              267.0   \n",
       "3            809.98                 31.377862              268.0   \n",
       "4            809.98                 24.797347              269.0   \n",
       "\n",
       "   Payment_of_Min_Amount  Total_EMI_per_month  Amount_invested_monthly  \\\n",
       "0                     No            49.574949                 21.46538   \n",
       "1                     No            49.574949                 21.46538   \n",
       "2                     No            49.574949                 21.46538   \n",
       "3                     No            49.574949                 21.46538   \n",
       "4                     No            49.574949                 21.46538   \n",
       "\n",
       "                  Payment_Behaviour Monthly_Balance  Credit_Score  \n",
       "0   High_spent_Small_value_payments      312.494089          Good  \n",
       "1    Low_spent_Large_value_payments      284.629162          Good  \n",
       "2   Low_spent_Medium_value_payments      331.209863          Good  \n",
       "3    Low_spent_Small_value_payments      223.451310          Good  \n",
       "4  High_spent_Medium_value_payments      341.489231          Good  \n",
       "\n",
       "[5 rows x 28 columns]"
      ]
     },
     "execution_count": 10,
     "metadata": {},
     "output_type": "execute_result"
    }
   ],
   "source": [
    "df.head()"
   ]
  },
  {
   "cell_type": "markdown",
   "id": "a841f836-db82-42ff-b58f-cf7253e65c4b",
   "metadata": {},
   "source": [
    "## Bottom Rows"
   ]
  },
  {
   "cell_type": "code",
   "execution_count": 12,
   "id": "11348069-85f2-4fce-96ba-b8904db00d65",
   "metadata": {},
   "outputs": [
    {
     "data": {
      "text/html": [
       "<div>\n",
       "<style scoped>\n",
       "    .dataframe tbody tr th:only-of-type {\n",
       "        vertical-align: middle;\n",
       "    }\n",
       "\n",
       "    .dataframe tbody tr th {\n",
       "        vertical-align: top;\n",
       "    }\n",
       "\n",
       "    .dataframe thead th {\n",
       "        text-align: right;\n",
       "    }\n",
       "</style>\n",
       "<table border=\"1\" class=\"dataframe\">\n",
       "  <thead>\n",
       "    <tr style=\"text-align: right;\">\n",
       "      <th></th>\n",
       "      <th>ID</th>\n",
       "      <th>Customer_ID</th>\n",
       "      <th>Month</th>\n",
       "      <th>Name</th>\n",
       "      <th>Age</th>\n",
       "      <th>SSN</th>\n",
       "      <th>Occupation</th>\n",
       "      <th>Annual_Income</th>\n",
       "      <th>Monthly_Inhand_Salary</th>\n",
       "      <th>Num_Bank_Accounts</th>\n",
       "      <th>...</th>\n",
       "      <th>Credit_Mix</th>\n",
       "      <th>Outstanding_Debt</th>\n",
       "      <th>Credit_Utilization_Ratio</th>\n",
       "      <th>Credit_History_Age</th>\n",
       "      <th>Payment_of_Min_Amount</th>\n",
       "      <th>Total_EMI_per_month</th>\n",
       "      <th>Amount_invested_monthly</th>\n",
       "      <th>Payment_Behaviour</th>\n",
       "      <th>Monthly_Balance</th>\n",
       "      <th>Credit_Score</th>\n",
       "    </tr>\n",
       "  </thead>\n",
       "  <tbody>\n",
       "    <tr>\n",
       "      <th>99995</th>\n",
       "      <td>155625</td>\n",
       "      <td>37932</td>\n",
       "      <td>4</td>\n",
       "      <td>Nicks</td>\n",
       "      <td>25.0</td>\n",
       "      <td>78735990.0</td>\n",
       "      <td>Mechanic</td>\n",
       "      <td>39628.99</td>\n",
       "      <td>3359.415833</td>\n",
       "      <td>4.0</td>\n",
       "      <td>...</td>\n",
       "      <td>Good</td>\n",
       "      <td>502.38</td>\n",
       "      <td>34.663572</td>\n",
       "      <td>378.0</td>\n",
       "      <td>No</td>\n",
       "      <td>35.104023</td>\n",
       "      <td>24.028477</td>\n",
       "      <td>High_spent_Large_value_payments</td>\n",
       "      <td>479.866228</td>\n",
       "      <td>Poor</td>\n",
       "    </tr>\n",
       "    <tr>\n",
       "      <th>99996</th>\n",
       "      <td>155626</td>\n",
       "      <td>37932</td>\n",
       "      <td>5</td>\n",
       "      <td>Nicks</td>\n",
       "      <td>25.0</td>\n",
       "      <td>78735990.0</td>\n",
       "      <td>Mechanic</td>\n",
       "      <td>39628.99</td>\n",
       "      <td>3359.415833</td>\n",
       "      <td>4.0</td>\n",
       "      <td>...</td>\n",
       "      <td>Good</td>\n",
       "      <td>502.38</td>\n",
       "      <td>40.565631</td>\n",
       "      <td>379.0</td>\n",
       "      <td>No</td>\n",
       "      <td>35.104023</td>\n",
       "      <td>24.028477</td>\n",
       "      <td>High_spent_Medium_value_payments</td>\n",
       "      <td>496.651610</td>\n",
       "      <td>Poor</td>\n",
       "    </tr>\n",
       "    <tr>\n",
       "      <th>99997</th>\n",
       "      <td>155627</td>\n",
       "      <td>37932</td>\n",
       "      <td>6</td>\n",
       "      <td>Nicks</td>\n",
       "      <td>25.0</td>\n",
       "      <td>78735990.0</td>\n",
       "      <td>Mechanic</td>\n",
       "      <td>39628.99</td>\n",
       "      <td>3359.415833</td>\n",
       "      <td>4.0</td>\n",
       "      <td>...</td>\n",
       "      <td>Good</td>\n",
       "      <td>502.38</td>\n",
       "      <td>41.255522</td>\n",
       "      <td>380.0</td>\n",
       "      <td>No</td>\n",
       "      <td>35.104023</td>\n",
       "      <td>24.028477</td>\n",
       "      <td>High_spent_Large_value_payments</td>\n",
       "      <td>516.809083</td>\n",
       "      <td>Poor</td>\n",
       "    </tr>\n",
       "    <tr>\n",
       "      <th>99998</th>\n",
       "      <td>155628</td>\n",
       "      <td>37932</td>\n",
       "      <td>7</td>\n",
       "      <td>Nicks</td>\n",
       "      <td>25.0</td>\n",
       "      <td>78735990.0</td>\n",
       "      <td>Mechanic</td>\n",
       "      <td>39628.99</td>\n",
       "      <td>3359.415833</td>\n",
       "      <td>4.0</td>\n",
       "      <td>...</td>\n",
       "      <td>Good</td>\n",
       "      <td>502.38</td>\n",
       "      <td>33.638208</td>\n",
       "      <td>381.0</td>\n",
       "      <td>No</td>\n",
       "      <td>35.104023</td>\n",
       "      <td>24.028477</td>\n",
       "      <td>Low_spent_Large_value_payments</td>\n",
       "      <td>319.164979</td>\n",
       "      <td>Standard</td>\n",
       "    </tr>\n",
       "    <tr>\n",
       "      <th>99999</th>\n",
       "      <td>155629</td>\n",
       "      <td>37932</td>\n",
       "      <td>8</td>\n",
       "      <td>Nicks</td>\n",
       "      <td>25.0</td>\n",
       "      <td>78735990.0</td>\n",
       "      <td>Mechanic</td>\n",
       "      <td>39628.99</td>\n",
       "      <td>3359.415833</td>\n",
       "      <td>4.0</td>\n",
       "      <td>...</td>\n",
       "      <td>Good</td>\n",
       "      <td>502.38</td>\n",
       "      <td>34.192463</td>\n",
       "      <td>382.0</td>\n",
       "      <td>No</td>\n",
       "      <td>35.104023</td>\n",
       "      <td>24.028477</td>\n",
       "      <td>High_spent_Medium_value_payments</td>\n",
       "      <td>393.673696</td>\n",
       "      <td>Poor</td>\n",
       "    </tr>\n",
       "  </tbody>\n",
       "</table>\n",
       "<p>5 rows × 28 columns</p>\n",
       "</div>"
      ],
      "text/plain": [
       "           ID  Customer_ID  Month   Name   Age         SSN Occupation  \\\n",
       "99995  155625        37932      4  Nicks  25.0  78735990.0   Mechanic   \n",
       "99996  155626        37932      5  Nicks  25.0  78735990.0   Mechanic   \n",
       "99997  155627        37932      6  Nicks  25.0  78735990.0   Mechanic   \n",
       "99998  155628        37932      7  Nicks  25.0  78735990.0   Mechanic   \n",
       "99999  155629        37932      8  Nicks  25.0  78735990.0   Mechanic   \n",
       "\n",
       "       Annual_Income  Monthly_Inhand_Salary  Num_Bank_Accounts  ...  \\\n",
       "99995       39628.99            3359.415833                4.0  ...   \n",
       "99996       39628.99            3359.415833                4.0  ...   \n",
       "99997       39628.99            3359.415833                4.0  ...   \n",
       "99998       39628.99            3359.415833                4.0  ...   \n",
       "99999       39628.99            3359.415833                4.0  ...   \n",
       "\n",
       "       Credit_Mix  Outstanding_Debt  Credit_Utilization_Ratio  \\\n",
       "99995        Good            502.38                 34.663572   \n",
       "99996        Good            502.38                 40.565631   \n",
       "99997        Good            502.38                 41.255522   \n",
       "99998        Good            502.38                 33.638208   \n",
       "99999        Good            502.38                 34.192463   \n",
       "\n",
       "      Credit_History_Age  Payment_of_Min_Amount  Total_EMI_per_month  \\\n",
       "99995              378.0                     No            35.104023   \n",
       "99996              379.0                     No            35.104023   \n",
       "99997              380.0                     No            35.104023   \n",
       "99998              381.0                     No            35.104023   \n",
       "99999              382.0                     No            35.104023   \n",
       "\n",
       "       Amount_invested_monthly                 Payment_Behaviour  \\\n",
       "99995                24.028477   High_spent_Large_value_payments   \n",
       "99996                24.028477  High_spent_Medium_value_payments   \n",
       "99997                24.028477   High_spent_Large_value_payments   \n",
       "99998                24.028477    Low_spent_Large_value_payments   \n",
       "99999                24.028477  High_spent_Medium_value_payments   \n",
       "\n",
       "      Monthly_Balance  Credit_Score  \n",
       "99995      479.866228          Poor  \n",
       "99996      496.651610          Poor  \n",
       "99997      516.809083          Poor  \n",
       "99998      319.164979      Standard  \n",
       "99999      393.673696          Poor  \n",
       "\n",
       "[5 rows x 28 columns]"
      ]
     },
     "execution_count": 12,
     "metadata": {},
     "output_type": "execute_result"
    }
   ],
   "source": [
    "df.tail()"
   ]
  },
  {
   "cell_type": "markdown",
   "id": "942ca482-1392-4b68-aed6-944903476dd7",
   "metadata": {},
   "source": [
    "## Sample Row"
   ]
  },
  {
   "cell_type": "code",
   "execution_count": 14,
   "id": "f1bb16ef-dcde-4e54-a7bd-dc37e7b965a4",
   "metadata": {},
   "outputs": [
    {
     "data": {
      "text/html": [
       "<div>\n",
       "<style scoped>\n",
       "    .dataframe tbody tr th:only-of-type {\n",
       "        vertical-align: middle;\n",
       "    }\n",
       "\n",
       "    .dataframe tbody tr th {\n",
       "        vertical-align: top;\n",
       "    }\n",
       "\n",
       "    .dataframe thead th {\n",
       "        text-align: right;\n",
       "    }\n",
       "</style>\n",
       "<table border=\"1\" class=\"dataframe\">\n",
       "  <thead>\n",
       "    <tr style=\"text-align: right;\">\n",
       "      <th></th>\n",
       "      <th>ID</th>\n",
       "      <th>Customer_ID</th>\n",
       "      <th>Month</th>\n",
       "      <th>Name</th>\n",
       "      <th>Age</th>\n",
       "      <th>SSN</th>\n",
       "      <th>Occupation</th>\n",
       "      <th>Annual_Income</th>\n",
       "      <th>Monthly_Inhand_Salary</th>\n",
       "      <th>Num_Bank_Accounts</th>\n",
       "      <th>...</th>\n",
       "      <th>Credit_Mix</th>\n",
       "      <th>Outstanding_Debt</th>\n",
       "      <th>Credit_Utilization_Ratio</th>\n",
       "      <th>Credit_History_Age</th>\n",
       "      <th>Payment_of_Min_Amount</th>\n",
       "      <th>Total_EMI_per_month</th>\n",
       "      <th>Amount_invested_monthly</th>\n",
       "      <th>Payment_Behaviour</th>\n",
       "      <th>Monthly_Balance</th>\n",
       "      <th>Credit_Score</th>\n",
       "    </tr>\n",
       "  </thead>\n",
       "  <tbody>\n",
       "    <tr>\n",
       "      <th>39768</th>\n",
       "      <td>65286</td>\n",
       "      <td>5845</td>\n",
       "      <td>1</td>\n",
       "      <td>Wohlo</td>\n",
       "      <td>32.0</td>\n",
       "      <td>434003122.0</td>\n",
       "      <td>Mechanic</td>\n",
       "      <td>14313.74</td>\n",
       "      <td>1334.811667</td>\n",
       "      <td>7.0</td>\n",
       "      <td>...</td>\n",
       "      <td>Bad</td>\n",
       "      <td>4050.69</td>\n",
       "      <td>34.546533</td>\n",
       "      <td>133.0</td>\n",
       "      <td>NM</td>\n",
       "      <td>42.015067</td>\n",
       "      <td>17.44352</td>\n",
       "      <td>High_spent_Small_value_payments</td>\n",
       "      <td>262.114185</td>\n",
       "      <td>Poor</td>\n",
       "    </tr>\n",
       "  </tbody>\n",
       "</table>\n",
       "<p>1 rows × 28 columns</p>\n",
       "</div>"
      ],
      "text/plain": [
       "          ID  Customer_ID  Month   Name   Age          SSN Occupation  \\\n",
       "39768  65286         5845      1  Wohlo  32.0  434003122.0   Mechanic   \n",
       "\n",
       "       Annual_Income  Monthly_Inhand_Salary  Num_Bank_Accounts  ...  \\\n",
       "39768       14313.74            1334.811667                7.0  ...   \n",
       "\n",
       "       Credit_Mix  Outstanding_Debt  Credit_Utilization_Ratio  \\\n",
       "39768         Bad           4050.69                 34.546533   \n",
       "\n",
       "      Credit_History_Age  Payment_of_Min_Amount  Total_EMI_per_month  \\\n",
       "39768              133.0                     NM            42.015067   \n",
       "\n",
       "       Amount_invested_monthly                Payment_Behaviour  \\\n",
       "39768                 17.44352  High_spent_Small_value_payments   \n",
       "\n",
       "      Monthly_Balance  Credit_Score  \n",
       "39768      262.114185          Poor  \n",
       "\n",
       "[1 rows x 28 columns]"
      ]
     },
     "execution_count": 14,
     "metadata": {},
     "output_type": "execute_result"
    }
   ],
   "source": [
    "df.sample()"
   ]
  },
  {
   "cell_type": "markdown",
   "id": "bfffbcdb-fe6e-4b55-b4e7-cde9e56b2bbe",
   "metadata": {},
   "source": [
    "## Information of Dataset"
   ]
  },
  {
   "cell_type": "code",
   "execution_count": 16,
   "id": "5af5fe3b-5f8a-49cb-a001-5fc4144a7818",
   "metadata": {},
   "outputs": [
    {
     "name": "stdout",
     "output_type": "stream",
     "text": [
      "<class 'pandas.core.frame.DataFrame'>\n",
      "RangeIndex: 100000 entries, 0 to 99999\n",
      "Data columns (total 28 columns):\n",
      " #   Column                    Non-Null Count   Dtype  \n",
      "---  ------                    --------------   -----  \n",
      " 0   ID                        100000 non-null  int64  \n",
      " 1   Customer_ID               100000 non-null  int64  \n",
      " 2   Month                     100000 non-null  int64  \n",
      " 3   Name                      100000 non-null  object \n",
      " 4   Age                       100000 non-null  float64\n",
      " 5   SSN                       100000 non-null  float64\n",
      " 6   Occupation                100000 non-null  object \n",
      " 7   Annual_Income             100000 non-null  float64\n",
      " 8   Monthly_Inhand_Salary     100000 non-null  float64\n",
      " 9   Num_Bank_Accounts         100000 non-null  float64\n",
      " 10  Num_Credit_Card           100000 non-null  float64\n",
      " 11  Interest_Rate             100000 non-null  float64\n",
      " 12  Num_of_Loan               100000 non-null  float64\n",
      " 13  Type_of_Loan              100000 non-null  object \n",
      " 14  Delay_from_due_date       100000 non-null  float64\n",
      " 15  Num_of_Delayed_Payment    100000 non-null  float64\n",
      " 16  Changed_Credit_Limit      100000 non-null  float64\n",
      " 17  Num_Credit_Inquiries      100000 non-null  float64\n",
      " 18  Credit_Mix                100000 non-null  object \n",
      " 19  Outstanding_Debt          100000 non-null  float64\n",
      " 20  Credit_Utilization_Ratio  100000 non-null  float64\n",
      " 21  Credit_History_Age        100000 non-null  float64\n",
      " 22  Payment_of_Min_Amount     100000 non-null  object \n",
      " 23  Total_EMI_per_month       100000 non-null  float64\n",
      " 24  Amount_invested_monthly   100000 non-null  float64\n",
      " 25  Payment_Behaviour         100000 non-null  object \n",
      " 26  Monthly_Balance           100000 non-null  float64\n",
      " 27  Credit_Score              100000 non-null  object \n",
      "dtypes: float64(18), int64(3), object(7)\n",
      "memory usage: 21.4+ MB\n"
     ]
    }
   ],
   "source": [
    "df.info()                   # details about columns"
   ]
  },
  {
   "cell_type": "markdown",
   "id": "7c7bb646-99a6-4dc6-8035-1f2dd369c664",
   "metadata": {},
   "source": [
    "## Duplicate Values"
   ]
  },
  {
   "cell_type": "code",
   "execution_count": 18,
   "id": "02d0b6ae-0d50-4a7b-85f8-4dab0575557f",
   "metadata": {},
   "outputs": [
    {
     "data": {
      "text/plain": [
       "0"
      ]
     },
     "execution_count": 18,
     "metadata": {},
     "output_type": "execute_result"
    }
   ],
   "source": [
    "df.duplicated().sum()               # to find duplicate values in dataset"
   ]
  },
  {
   "cell_type": "code",
   "execution_count": 19,
   "id": "699baeab-6243-44c3-8c43-661a6d7c2e8c",
   "metadata": {},
   "outputs": [
    {
     "data": {
      "text/plain": [
       "0"
      ]
     },
     "execution_count": 19,
     "metadata": {},
     "output_type": "execute_result"
    }
   ],
   "source": [
    "df['ID'].duplicated().sum()"
   ]
  },
  {
   "cell_type": "markdown",
   "id": "af6591c6-c5f5-4b87-bdc6-5d201eae1ecc",
   "metadata": {},
   "source": [
    "## Missing Values"
   ]
  },
  {
   "cell_type": "code",
   "execution_count": 21,
   "id": "a77006b9-93cd-43c4-a6e8-d31a642d74dc",
   "metadata": {},
   "outputs": [
    {
     "data": {
      "text/plain": [
       "ID                          0\n",
       "Customer_ID                 0\n",
       "Month                       0\n",
       "Name                        0\n",
       "Age                         0\n",
       "SSN                         0\n",
       "Occupation                  0\n",
       "Annual_Income               0\n",
       "Monthly_Inhand_Salary       0\n",
       "Num_Bank_Accounts           0\n",
       "Num_Credit_Card             0\n",
       "Interest_Rate               0\n",
       "Num_of_Loan                 0\n",
       "Type_of_Loan                0\n",
       "Delay_from_due_date         0\n",
       "Num_of_Delayed_Payment      0\n",
       "Changed_Credit_Limit        0\n",
       "Num_Credit_Inquiries        0\n",
       "Credit_Mix                  0\n",
       "Outstanding_Debt            0\n",
       "Credit_Utilization_Ratio    0\n",
       "Credit_History_Age          0\n",
       "Payment_of_Min_Amount       0\n",
       "Total_EMI_per_month         0\n",
       "Amount_invested_monthly     0\n",
       "Payment_Behaviour           0\n",
       "Monthly_Balance             0\n",
       "Credit_Score                0\n",
       "dtype: int64"
      ]
     },
     "execution_count": 21,
     "metadata": {},
     "output_type": "execute_result"
    }
   ],
   "source": [
    "df.isnull().sum()                           # to find null or missing values in dataset"
   ]
  },
  {
   "cell_type": "markdown",
   "id": "9d930148-ba8a-4737-9db2-2354e14c642f",
   "metadata": {},
   "source": [
    "## Statistical Analysis"
   ]
  },
  {
   "cell_type": "code",
   "execution_count": 23,
   "id": "ff1ccef2-e7e6-4c2d-b6c8-0a5904880fad",
   "metadata": {},
   "outputs": [
    {
     "data": {
      "text/html": [
       "<style type=\"text/css\">\n",
       "</style>\n",
       "<table id=\"T_eb2e8\">\n",
       "  <thead>\n",
       "    <tr>\n",
       "      <th class=\"blank level0\" >&nbsp;</th>\n",
       "      <th id=\"T_eb2e8_level0_col0\" class=\"col_heading level0 col0\" >count</th>\n",
       "      <th id=\"T_eb2e8_level0_col1\" class=\"col_heading level0 col1\" >mean</th>\n",
       "      <th id=\"T_eb2e8_level0_col2\" class=\"col_heading level0 col2\" >std</th>\n",
       "      <th id=\"T_eb2e8_level0_col3\" class=\"col_heading level0 col3\" >min</th>\n",
       "      <th id=\"T_eb2e8_level0_col4\" class=\"col_heading level0 col4\" >25%</th>\n",
       "      <th id=\"T_eb2e8_level0_col5\" class=\"col_heading level0 col5\" >50%</th>\n",
       "      <th id=\"T_eb2e8_level0_col6\" class=\"col_heading level0 col6\" >75%</th>\n",
       "      <th id=\"T_eb2e8_level0_col7\" class=\"col_heading level0 col7\" >max</th>\n",
       "    </tr>\n",
       "  </thead>\n",
       "  <tbody>\n",
       "    <tr>\n",
       "      <th id=\"T_eb2e8_level0_row0\" class=\"row_heading level0 row0\" >Month</th>\n",
       "      <td id=\"T_eb2e8_row0_col0\" class=\"data row0 col0\" >100000.00</td>\n",
       "      <td id=\"T_eb2e8_row0_col1\" class=\"data row0 col1\" >4.50</td>\n",
       "      <td id=\"T_eb2e8_row0_col2\" class=\"data row0 col2\" >2.29</td>\n",
       "      <td id=\"T_eb2e8_row0_col3\" class=\"data row0 col3\" >1.00</td>\n",
       "      <td id=\"T_eb2e8_row0_col4\" class=\"data row0 col4\" >2.75</td>\n",
       "      <td id=\"T_eb2e8_row0_col5\" class=\"data row0 col5\" >4.50</td>\n",
       "      <td id=\"T_eb2e8_row0_col6\" class=\"data row0 col6\" >6.25</td>\n",
       "      <td id=\"T_eb2e8_row0_col7\" class=\"data row0 col7\" >8.00</td>\n",
       "    </tr>\n",
       "    <tr>\n",
       "      <th id=\"T_eb2e8_level0_row1\" class=\"row_heading level0 row1\" >Age</th>\n",
       "      <td id=\"T_eb2e8_row1_col0\" class=\"data row1 col0\" >100000.00</td>\n",
       "      <td id=\"T_eb2e8_row1_col1\" class=\"data row1 col1\" >33.32</td>\n",
       "      <td id=\"T_eb2e8_row1_col2\" class=\"data row1 col2\" >10.76</td>\n",
       "      <td id=\"T_eb2e8_row1_col3\" class=\"data row1 col3\" >14.00</td>\n",
       "      <td id=\"T_eb2e8_row1_col4\" class=\"data row1 col4\" >24.00</td>\n",
       "      <td id=\"T_eb2e8_row1_col5\" class=\"data row1 col5\" >33.00</td>\n",
       "      <td id=\"T_eb2e8_row1_col6\" class=\"data row1 col6\" >42.00</td>\n",
       "      <td id=\"T_eb2e8_row1_col7\" class=\"data row1 col7\" >56.00</td>\n",
       "    </tr>\n",
       "    <tr>\n",
       "      <th id=\"T_eb2e8_level0_row2\" class=\"row_heading level0 row2\" >SSN</th>\n",
       "      <td id=\"T_eb2e8_row2_col0\" class=\"data row2 col0\" >100000.00</td>\n",
       "      <td id=\"T_eb2e8_row2_col1\" class=\"data row2 col1\" >500461680.26</td>\n",
       "      <td id=\"T_eb2e8_row2_col2\" class=\"data row2 col2\" >290826734.39</td>\n",
       "      <td id=\"T_eb2e8_row2_col3\" class=\"data row2 col3\" >81349.00</td>\n",
       "      <td id=\"T_eb2e8_row2_col4\" class=\"data row2 col4\" >245168577.25</td>\n",
       "      <td id=\"T_eb2e8_row2_col5\" class=\"data row2 col5\" >500688611.50</td>\n",
       "      <td id=\"T_eb2e8_row2_col6\" class=\"data row2 col6\" >756002666.25</td>\n",
       "      <td id=\"T_eb2e8_row2_col7\" class=\"data row2 col7\" >999993421.00</td>\n",
       "    </tr>\n",
       "    <tr>\n",
       "      <th id=\"T_eb2e8_level0_row3\" class=\"row_heading level0 row3\" >Annual_Income</th>\n",
       "      <td id=\"T_eb2e8_row3_col0\" class=\"data row3 col0\" >100000.00</td>\n",
       "      <td id=\"T_eb2e8_row3_col1\" class=\"data row3 col1\" >50505.12</td>\n",
       "      <td id=\"T_eb2e8_row3_col2\" class=\"data row3 col2\" >38299.42</td>\n",
       "      <td id=\"T_eb2e8_row3_col3\" class=\"data row3 col3\" >7005.93</td>\n",
       "      <td id=\"T_eb2e8_row3_col4\" class=\"data row3 col4\" >19342.97</td>\n",
       "      <td id=\"T_eb2e8_row3_col5\" class=\"data row3 col5\" >36999.71</td>\n",
       "      <td id=\"T_eb2e8_row3_col6\" class=\"data row3 col6\" >71683.47</td>\n",
       "      <td id=\"T_eb2e8_row3_col7\" class=\"data row3 col7\" >179987.28</td>\n",
       "    </tr>\n",
       "    <tr>\n",
       "      <th id=\"T_eb2e8_level0_row4\" class=\"row_heading level0 row4\" >Monthly_Inhand_Salary</th>\n",
       "      <td id=\"T_eb2e8_row4_col0\" class=\"data row4 col0\" >100000.00</td>\n",
       "      <td id=\"T_eb2e8_row4_col1\" class=\"data row4 col1\" >4197.27</td>\n",
       "      <td id=\"T_eb2e8_row4_col2\" class=\"data row4 col2\" >3186.43</td>\n",
       "      <td id=\"T_eb2e8_row4_col3\" class=\"data row4 col3\" >303.65</td>\n",
       "      <td id=\"T_eb2e8_row4_col4\" class=\"data row4 col4\" >1626.59</td>\n",
       "      <td id=\"T_eb2e8_row4_col5\" class=\"data row4 col5\" >3095.91</td>\n",
       "      <td id=\"T_eb2e8_row4_col6\" class=\"data row4 col6\" >5957.72</td>\n",
       "      <td id=\"T_eb2e8_row4_col7\" class=\"data row4 col7\" >15204.63</td>\n",
       "    </tr>\n",
       "    <tr>\n",
       "      <th id=\"T_eb2e8_level0_row5\" class=\"row_heading level0 row5\" >Num_Bank_Accounts</th>\n",
       "      <td id=\"T_eb2e8_row5_col0\" class=\"data row5 col0\" >100000.00</td>\n",
       "      <td id=\"T_eb2e8_row5_col1\" class=\"data row5 col1\" >5.37</td>\n",
       "      <td id=\"T_eb2e8_row5_col2\" class=\"data row5 col2\" >2.59</td>\n",
       "      <td id=\"T_eb2e8_row5_col3\" class=\"data row5 col3\" >0.00</td>\n",
       "      <td id=\"T_eb2e8_row5_col4\" class=\"data row5 col4\" >3.00</td>\n",
       "      <td id=\"T_eb2e8_row5_col5\" class=\"data row5 col5\" >5.00</td>\n",
       "      <td id=\"T_eb2e8_row5_col6\" class=\"data row5 col6\" >7.00</td>\n",
       "      <td id=\"T_eb2e8_row5_col7\" class=\"data row5 col7\" >11.00</td>\n",
       "    </tr>\n",
       "    <tr>\n",
       "      <th id=\"T_eb2e8_level0_row6\" class=\"row_heading level0 row6\" >Num_Credit_Card</th>\n",
       "      <td id=\"T_eb2e8_row6_col0\" class=\"data row6 col0\" >100000.00</td>\n",
       "      <td id=\"T_eb2e8_row6_col1\" class=\"data row6 col1\" >5.53</td>\n",
       "      <td id=\"T_eb2e8_row6_col2\" class=\"data row6 col2\" >2.07</td>\n",
       "      <td id=\"T_eb2e8_row6_col3\" class=\"data row6 col3\" >0.00</td>\n",
       "      <td id=\"T_eb2e8_row6_col4\" class=\"data row6 col4\" >4.00</td>\n",
       "      <td id=\"T_eb2e8_row6_col5\" class=\"data row6 col5\" >5.00</td>\n",
       "      <td id=\"T_eb2e8_row6_col6\" class=\"data row6 col6\" >7.00</td>\n",
       "      <td id=\"T_eb2e8_row6_col7\" class=\"data row6 col7\" >11.00</td>\n",
       "    </tr>\n",
       "    <tr>\n",
       "      <th id=\"T_eb2e8_level0_row7\" class=\"row_heading level0 row7\" >Interest_Rate</th>\n",
       "      <td id=\"T_eb2e8_row7_col0\" class=\"data row7 col0\" >100000.00</td>\n",
       "      <td id=\"T_eb2e8_row7_col1\" class=\"data row7 col1\" >14.53</td>\n",
       "      <td id=\"T_eb2e8_row7_col2\" class=\"data row7 col2\" >8.74</td>\n",
       "      <td id=\"T_eb2e8_row7_col3\" class=\"data row7 col3\" >1.00</td>\n",
       "      <td id=\"T_eb2e8_row7_col4\" class=\"data row7 col4\" >7.00</td>\n",
       "      <td id=\"T_eb2e8_row7_col5\" class=\"data row7 col5\" >13.00</td>\n",
       "      <td id=\"T_eb2e8_row7_col6\" class=\"data row7 col6\" >20.00</td>\n",
       "      <td id=\"T_eb2e8_row7_col7\" class=\"data row7 col7\" >34.00</td>\n",
       "    </tr>\n",
       "    <tr>\n",
       "      <th id=\"T_eb2e8_level0_row8\" class=\"row_heading level0 row8\" >Num_of_Loan</th>\n",
       "      <td id=\"T_eb2e8_row8_col0\" class=\"data row8 col0\" >100000.00</td>\n",
       "      <td id=\"T_eb2e8_row8_col1\" class=\"data row8 col1\" >3.53</td>\n",
       "      <td id=\"T_eb2e8_row8_col2\" class=\"data row8 col2\" >2.45</td>\n",
       "      <td id=\"T_eb2e8_row8_col3\" class=\"data row8 col3\" >0.00</td>\n",
       "      <td id=\"T_eb2e8_row8_col4\" class=\"data row8 col4\" >2.00</td>\n",
       "      <td id=\"T_eb2e8_row8_col5\" class=\"data row8 col5\" >3.00</td>\n",
       "      <td id=\"T_eb2e8_row8_col6\" class=\"data row8 col6\" >5.00</td>\n",
       "      <td id=\"T_eb2e8_row8_col7\" class=\"data row8 col7\" >9.00</td>\n",
       "    </tr>\n",
       "    <tr>\n",
       "      <th id=\"T_eb2e8_level0_row9\" class=\"row_heading level0 row9\" >Delay_from_due_date</th>\n",
       "      <td id=\"T_eb2e8_row9_col0\" class=\"data row9 col0\" >100000.00</td>\n",
       "      <td id=\"T_eb2e8_row9_col1\" class=\"data row9 col1\" >21.08</td>\n",
       "      <td id=\"T_eb2e8_row9_col2\" class=\"data row9 col2\" >14.80</td>\n",
       "      <td id=\"T_eb2e8_row9_col3\" class=\"data row9 col3\" >0.00</td>\n",
       "      <td id=\"T_eb2e8_row9_col4\" class=\"data row9 col4\" >10.00</td>\n",
       "      <td id=\"T_eb2e8_row9_col5\" class=\"data row9 col5\" >18.00</td>\n",
       "      <td id=\"T_eb2e8_row9_col6\" class=\"data row9 col6\" >28.00</td>\n",
       "      <td id=\"T_eb2e8_row9_col7\" class=\"data row9 col7\" >62.00</td>\n",
       "    </tr>\n",
       "    <tr>\n",
       "      <th id=\"T_eb2e8_level0_row10\" class=\"row_heading level0 row10\" >Num_of_Delayed_Payment</th>\n",
       "      <td id=\"T_eb2e8_row10_col0\" class=\"data row10 col0\" >100000.00</td>\n",
       "      <td id=\"T_eb2e8_row10_col1\" class=\"data row10 col1\" >13.31</td>\n",
       "      <td id=\"T_eb2e8_row10_col2\" class=\"data row10 col2\" >6.24</td>\n",
       "      <td id=\"T_eb2e8_row10_col3\" class=\"data row10 col3\" >0.00</td>\n",
       "      <td id=\"T_eb2e8_row10_col4\" class=\"data row10 col4\" >9.00</td>\n",
       "      <td id=\"T_eb2e8_row10_col5\" class=\"data row10 col5\" >14.00</td>\n",
       "      <td id=\"T_eb2e8_row10_col6\" class=\"data row10 col6\" >18.00</td>\n",
       "      <td id=\"T_eb2e8_row10_col7\" class=\"data row10 col7\" >25.00</td>\n",
       "    </tr>\n",
       "    <tr>\n",
       "      <th id=\"T_eb2e8_level0_row11\" class=\"row_heading level0 row11\" >Changed_Credit_Limit</th>\n",
       "      <td id=\"T_eb2e8_row11_col0\" class=\"data row11 col0\" >100000.00</td>\n",
       "      <td id=\"T_eb2e8_row11_col1\" class=\"data row11 col1\" >10.47</td>\n",
       "      <td id=\"T_eb2e8_row11_col2\" class=\"data row11 col2\" >6.61</td>\n",
       "      <td id=\"T_eb2e8_row11_col3\" class=\"data row11 col3\" >0.50</td>\n",
       "      <td id=\"T_eb2e8_row11_col4\" class=\"data row11 col4\" >5.38</td>\n",
       "      <td id=\"T_eb2e8_row11_col5\" class=\"data row11 col5\" >9.40</td>\n",
       "      <td id=\"T_eb2e8_row11_col6\" class=\"data row11 col6\" >14.85</td>\n",
       "      <td id=\"T_eb2e8_row11_col7\" class=\"data row11 col7\" >29.98</td>\n",
       "    </tr>\n",
       "    <tr>\n",
       "      <th id=\"T_eb2e8_level0_row12\" class=\"row_heading level0 row12\" >Num_Credit_Inquiries</th>\n",
       "      <td id=\"T_eb2e8_row12_col0\" class=\"data row12 col0\" >100000.00</td>\n",
       "      <td id=\"T_eb2e8_row12_col1\" class=\"data row12 col1\" >5.80</td>\n",
       "      <td id=\"T_eb2e8_row12_col2\" class=\"data row12 col2\" >3.87</td>\n",
       "      <td id=\"T_eb2e8_row12_col3\" class=\"data row12 col3\" >0.00</td>\n",
       "      <td id=\"T_eb2e8_row12_col4\" class=\"data row12 col4\" >3.00</td>\n",
       "      <td id=\"T_eb2e8_row12_col5\" class=\"data row12 col5\" >5.00</td>\n",
       "      <td id=\"T_eb2e8_row12_col6\" class=\"data row12 col6\" >8.00</td>\n",
       "      <td id=\"T_eb2e8_row12_col7\" class=\"data row12 col7\" >17.00</td>\n",
       "    </tr>\n",
       "    <tr>\n",
       "      <th id=\"T_eb2e8_level0_row13\" class=\"row_heading level0 row13\" >Outstanding_Debt</th>\n",
       "      <td id=\"T_eb2e8_row13_col0\" class=\"data row13 col0\" >100000.00</td>\n",
       "      <td id=\"T_eb2e8_row13_col1\" class=\"data row13 col1\" >1426.22</td>\n",
       "      <td id=\"T_eb2e8_row13_col2\" class=\"data row13 col2\" >1155.13</td>\n",
       "      <td id=\"T_eb2e8_row13_col3\" class=\"data row13 col3\" >0.23</td>\n",
       "      <td id=\"T_eb2e8_row13_col4\" class=\"data row13 col4\" >566.07</td>\n",
       "      <td id=\"T_eb2e8_row13_col5\" class=\"data row13 col5\" >1166.15</td>\n",
       "      <td id=\"T_eb2e8_row13_col6\" class=\"data row13 col6\" >1945.96</td>\n",
       "      <td id=\"T_eb2e8_row13_col7\" class=\"data row13 col7\" >4998.07</td>\n",
       "    </tr>\n",
       "    <tr>\n",
       "      <th id=\"T_eb2e8_level0_row14\" class=\"row_heading level0 row14\" >Credit_Utilization_Ratio</th>\n",
       "      <td id=\"T_eb2e8_row14_col0\" class=\"data row14 col0\" >100000.00</td>\n",
       "      <td id=\"T_eb2e8_row14_col1\" class=\"data row14 col1\" >32.29</td>\n",
       "      <td id=\"T_eb2e8_row14_col2\" class=\"data row14 col2\" >5.12</td>\n",
       "      <td id=\"T_eb2e8_row14_col3\" class=\"data row14 col3\" >20.00</td>\n",
       "      <td id=\"T_eb2e8_row14_col4\" class=\"data row14 col4\" >28.05</td>\n",
       "      <td id=\"T_eb2e8_row14_col5\" class=\"data row14 col5\" >32.31</td>\n",
       "      <td id=\"T_eb2e8_row14_col6\" class=\"data row14 col6\" >36.50</td>\n",
       "      <td id=\"T_eb2e8_row14_col7\" class=\"data row14 col7\" >50.00</td>\n",
       "    </tr>\n",
       "    <tr>\n",
       "      <th id=\"T_eb2e8_level0_row15\" class=\"row_heading level0 row15\" >Credit_History_Age</th>\n",
       "      <td id=\"T_eb2e8_row15_col0\" class=\"data row15 col0\" >100000.00</td>\n",
       "      <td id=\"T_eb2e8_row15_col1\" class=\"data row15 col1\" >221.22</td>\n",
       "      <td id=\"T_eb2e8_row15_col2\" class=\"data row15 col2\" >99.68</td>\n",
       "      <td id=\"T_eb2e8_row15_col3\" class=\"data row15 col3\" >1.00</td>\n",
       "      <td id=\"T_eb2e8_row15_col4\" class=\"data row15 col4\" >144.00</td>\n",
       "      <td id=\"T_eb2e8_row15_col5\" class=\"data row15 col5\" >219.00</td>\n",
       "      <td id=\"T_eb2e8_row15_col6\" class=\"data row15 col6\" >302.00</td>\n",
       "      <td id=\"T_eb2e8_row15_col7\" class=\"data row15 col7\" >404.00</td>\n",
       "    </tr>\n",
       "    <tr>\n",
       "      <th id=\"T_eb2e8_level0_row16\" class=\"row_heading level0 row16\" >Total_EMI_per_month</th>\n",
       "      <td id=\"T_eb2e8_row16_col0\" class=\"data row16 col0\" >100000.00</td>\n",
       "      <td id=\"T_eb2e8_row16_col1\" class=\"data row16 col1\" >107.70</td>\n",
       "      <td id=\"T_eb2e8_row16_col2\" class=\"data row16 col2\" >132.27</td>\n",
       "      <td id=\"T_eb2e8_row16_col3\" class=\"data row16 col3\" >0.00</td>\n",
       "      <td id=\"T_eb2e8_row16_col4\" class=\"data row16 col4\" >29.27</td>\n",
       "      <td id=\"T_eb2e8_row16_col5\" class=\"data row16 col5\" >66.46</td>\n",
       "      <td id=\"T_eb2e8_row16_col6\" class=\"data row16 col6\" >147.39</td>\n",
       "      <td id=\"T_eb2e8_row16_col7\" class=\"data row16 col7\" >1779.10</td>\n",
       "    </tr>\n",
       "    <tr>\n",
       "      <th id=\"T_eb2e8_level0_row17\" class=\"row_heading level0 row17\" >Amount_invested_monthly</th>\n",
       "      <td id=\"T_eb2e8_row17_col0\" class=\"data row17 col0\" >100000.00</td>\n",
       "      <td id=\"T_eb2e8_row17_col1\" class=\"data row17 col1\" >55.10</td>\n",
       "      <td id=\"T_eb2e8_row17_col2\" class=\"data row17 col2\" >39.01</td>\n",
       "      <td id=\"T_eb2e8_row17_col3\" class=\"data row17 col3\" >0.00</td>\n",
       "      <td id=\"T_eb2e8_row17_col4\" class=\"data row17 col4\" >27.96</td>\n",
       "      <td id=\"T_eb2e8_row17_col5\" class=\"data row17 col5\" >45.16</td>\n",
       "      <td id=\"T_eb2e8_row17_col6\" class=\"data row17 col6\" >71.30</td>\n",
       "      <td id=\"T_eb2e8_row17_col7\" class=\"data row17 col7\" >434.19</td>\n",
       "    </tr>\n",
       "    <tr>\n",
       "      <th id=\"T_eb2e8_level0_row18\" class=\"row_heading level0 row18\" >Monthly_Balance</th>\n",
       "      <td id=\"T_eb2e8_row18_col0\" class=\"data row18 col0\" >100000.00</td>\n",
       "      <td id=\"T_eb2e8_row18_col1\" class=\"data row18 col1\" >392.70</td>\n",
       "      <td id=\"T_eb2e8_row18_col2\" class=\"data row18 col2\" >201.65</td>\n",
       "      <td id=\"T_eb2e8_row18_col3\" class=\"data row18 col3\" >0.01</td>\n",
       "      <td id=\"T_eb2e8_row18_col4\" class=\"data row18 col4\" >267.62</td>\n",
       "      <td id=\"T_eb2e8_row18_col5\" class=\"data row18 col5\" >333.87</td>\n",
       "      <td id=\"T_eb2e8_row18_col6\" class=\"data row18 col6\" >463.22</td>\n",
       "      <td id=\"T_eb2e8_row18_col7\" class=\"data row18 col7\" >1183.93</td>\n",
       "    </tr>\n",
       "  </tbody>\n",
       "</table>\n"
      ],
      "text/plain": [
       "<pandas.io.formats.style.Styler at 0x152c556e480>"
      ]
     },
     "execution_count": 23,
     "metadata": {},
     "output_type": "execute_result"
    }
   ],
   "source": [
    "df.drop(['ID','Customer_ID'], axis=1).describe().transpose().style.format(\"{:.2f}\")          # statiscal analysis of Numerical columns"
   ]
  },
  {
   "cell_type": "code",
   "execution_count": 24,
   "id": "6cd551f0-6220-4e79-a1af-7c8f32835994",
   "metadata": {},
   "outputs": [
    {
     "data": {
      "text/html": [
       "<div>\n",
       "<style scoped>\n",
       "    .dataframe tbody tr th:only-of-type {\n",
       "        vertical-align: middle;\n",
       "    }\n",
       "\n",
       "    .dataframe tbody tr th {\n",
       "        vertical-align: top;\n",
       "    }\n",
       "\n",
       "    .dataframe thead th {\n",
       "        text-align: right;\n",
       "    }\n",
       "</style>\n",
       "<table border=\"1\" class=\"dataframe\">\n",
       "  <thead>\n",
       "    <tr style=\"text-align: right;\">\n",
       "      <th></th>\n",
       "      <th>ID</th>\n",
       "      <th>Customer_ID</th>\n",
       "      <th>Month</th>\n",
       "      <th>Name</th>\n",
       "      <th>Age</th>\n",
       "      <th>SSN</th>\n",
       "      <th>Occupation</th>\n",
       "      <th>Annual_Income</th>\n",
       "      <th>Monthly_Inhand_Salary</th>\n",
       "      <th>Num_Bank_Accounts</th>\n",
       "      <th>...</th>\n",
       "      <th>Credit_Mix</th>\n",
       "      <th>Outstanding_Debt</th>\n",
       "      <th>Credit_Utilization_Ratio</th>\n",
       "      <th>Credit_History_Age</th>\n",
       "      <th>Payment_of_Min_Amount</th>\n",
       "      <th>Total_EMI_per_month</th>\n",
       "      <th>Amount_invested_monthly</th>\n",
       "      <th>Payment_Behaviour</th>\n",
       "      <th>Monthly_Balance</th>\n",
       "      <th>Credit_Score</th>\n",
       "    </tr>\n",
       "  </thead>\n",
       "  <tbody>\n",
       "    <tr>\n",
       "      <th>0</th>\n",
       "      <td>5634</td>\n",
       "      <td>3392</td>\n",
       "      <td>1</td>\n",
       "      <td>Aaron Maashoh</td>\n",
       "      <td>23.0</td>\n",
       "      <td>821000265.0</td>\n",
       "      <td>Scientist</td>\n",
       "      <td>19114.12</td>\n",
       "      <td>1824.84</td>\n",
       "      <td>3.0</td>\n",
       "      <td>...</td>\n",
       "      <td>Good</td>\n",
       "      <td>809.98</td>\n",
       "      <td>26.82</td>\n",
       "      <td>265.0</td>\n",
       "      <td>No</td>\n",
       "      <td>49.57</td>\n",
       "      <td>21.47</td>\n",
       "      <td>High_spent_Small_value_payments</td>\n",
       "      <td>312.49</td>\n",
       "      <td>Good</td>\n",
       "    </tr>\n",
       "    <tr>\n",
       "      <th>1</th>\n",
       "      <td>5635</td>\n",
       "      <td>3392</td>\n",
       "      <td>2</td>\n",
       "      <td>Aaron Maashoh</td>\n",
       "      <td>23.0</td>\n",
       "      <td>821000265.0</td>\n",
       "      <td>Scientist</td>\n",
       "      <td>19114.12</td>\n",
       "      <td>1824.84</td>\n",
       "      <td>3.0</td>\n",
       "      <td>...</td>\n",
       "      <td>Good</td>\n",
       "      <td>809.98</td>\n",
       "      <td>31.94</td>\n",
       "      <td>266.0</td>\n",
       "      <td>No</td>\n",
       "      <td>49.57</td>\n",
       "      <td>21.47</td>\n",
       "      <td>Low_spent_Large_value_payments</td>\n",
       "      <td>284.63</td>\n",
       "      <td>Good</td>\n",
       "    </tr>\n",
       "    <tr>\n",
       "      <th>2</th>\n",
       "      <td>5636</td>\n",
       "      <td>3392</td>\n",
       "      <td>3</td>\n",
       "      <td>Aaron Maashoh</td>\n",
       "      <td>23.0</td>\n",
       "      <td>821000265.0</td>\n",
       "      <td>Scientist</td>\n",
       "      <td>19114.12</td>\n",
       "      <td>1824.84</td>\n",
       "      <td>3.0</td>\n",
       "      <td>...</td>\n",
       "      <td>Good</td>\n",
       "      <td>809.98</td>\n",
       "      <td>28.61</td>\n",
       "      <td>267.0</td>\n",
       "      <td>No</td>\n",
       "      <td>49.57</td>\n",
       "      <td>21.47</td>\n",
       "      <td>Low_spent_Medium_value_payments</td>\n",
       "      <td>331.21</td>\n",
       "      <td>Good</td>\n",
       "    </tr>\n",
       "  </tbody>\n",
       "</table>\n",
       "<p>3 rows × 28 columns</p>\n",
       "</div>"
      ],
      "text/plain": [
       "     ID  Customer_ID  Month           Name   Age          SSN Occupation  \\\n",
       "0  5634         3392      1  Aaron Maashoh  23.0  821000265.0  Scientist   \n",
       "1  5635         3392      2  Aaron Maashoh  23.0  821000265.0  Scientist   \n",
       "2  5636         3392      3  Aaron Maashoh  23.0  821000265.0  Scientist   \n",
       "\n",
       "   Annual_Income  Monthly_Inhand_Salary  Num_Bank_Accounts  ...  Credit_Mix  \\\n",
       "0       19114.12                1824.84                3.0  ...        Good   \n",
       "1       19114.12                1824.84                3.0  ...        Good   \n",
       "2       19114.12                1824.84                3.0  ...        Good   \n",
       "\n",
       "   Outstanding_Debt  Credit_Utilization_Ratio Credit_History_Age  \\\n",
       "0            809.98                     26.82              265.0   \n",
       "1            809.98                     31.94              266.0   \n",
       "2            809.98                     28.61              267.0   \n",
       "\n",
       "   Payment_of_Min_Amount  Total_EMI_per_month  Amount_invested_monthly  \\\n",
       "0                     No                49.57                    21.47   \n",
       "1                     No                49.57                    21.47   \n",
       "2                     No                49.57                    21.47   \n",
       "\n",
       "                 Payment_Behaviour Monthly_Balance  Credit_Score  \n",
       "0  High_spent_Small_value_payments          312.49          Good  \n",
       "1   Low_spent_Large_value_payments          284.63          Good  \n",
       "2  Low_spent_Medium_value_payments          331.21          Good  \n",
       "\n",
       "[3 rows x 28 columns]"
      ]
     },
     "execution_count": 24,
     "metadata": {},
     "output_type": "execute_result"
    }
   ],
   "source": [
    "df_1 = round(df,2)               # rounding off the numerical values\n",
    "df_1.head(3)                      "
   ]
  },
  {
   "cell_type": "markdown",
   "id": "8bddbf45-d2c8-4875-a51f-162c57a7376f",
   "metadata": {},
   "source": [
    "## Change of Dtype of Numerical columns"
   ]
  },
  {
   "cell_type": "code",
   "execution_count": 26,
   "id": "12c0425f-2eda-4688-9bb2-eafccd9dc508",
   "metadata": {},
   "outputs": [],
   "source": [
    "df_1 = df_1.astype({'Age':'int',                            # change of d-types of numerical columnns \n",
    "            'SSN':'int',\n",
    "            'Num_Bank_Accounts':'int',\n",
    "            'Credit_History_Age':'int',\n",
    "            'Num_Credit_Card': 'int'})"
   ]
  },
  {
   "cell_type": "code",
   "execution_count": 27,
   "id": "7ae21333-19c0-4d21-98fb-6a2808e2b60a",
   "metadata": {},
   "outputs": [
    {
     "name": "stdout",
     "output_type": "stream",
     "text": [
      "<class 'pandas.core.frame.DataFrame'>\n",
      "RangeIndex: 100000 entries, 0 to 99999\n",
      "Data columns (total 28 columns):\n",
      " #   Column                    Non-Null Count   Dtype  \n",
      "---  ------                    --------------   -----  \n",
      " 0   ID                        100000 non-null  int64  \n",
      " 1   Customer_ID               100000 non-null  int64  \n",
      " 2   Month                     100000 non-null  int64  \n",
      " 3   Name                      100000 non-null  object \n",
      " 4   Age                       100000 non-null  int32  \n",
      " 5   SSN                       100000 non-null  int32  \n",
      " 6   Occupation                100000 non-null  object \n",
      " 7   Annual_Income             100000 non-null  float64\n",
      " 8   Monthly_Inhand_Salary     100000 non-null  float64\n",
      " 9   Num_Bank_Accounts         100000 non-null  int32  \n",
      " 10  Num_Credit_Card           100000 non-null  int32  \n",
      " 11  Interest_Rate             100000 non-null  float64\n",
      " 12  Num_of_Loan               100000 non-null  float64\n",
      " 13  Type_of_Loan              100000 non-null  object \n",
      " 14  Delay_from_due_date       100000 non-null  float64\n",
      " 15  Num_of_Delayed_Payment    100000 non-null  float64\n",
      " 16  Changed_Credit_Limit      100000 non-null  float64\n",
      " 17  Num_Credit_Inquiries      100000 non-null  float64\n",
      " 18  Credit_Mix                100000 non-null  object \n",
      " 19  Outstanding_Debt          100000 non-null  float64\n",
      " 20  Credit_Utilization_Ratio  100000 non-null  float64\n",
      " 21  Credit_History_Age        100000 non-null  int32  \n",
      " 22  Payment_of_Min_Amount     100000 non-null  object \n",
      " 23  Total_EMI_per_month       100000 non-null  float64\n",
      " 24  Amount_invested_monthly   100000 non-null  float64\n",
      " 25  Payment_Behaviour         100000 non-null  object \n",
      " 26  Monthly_Balance           100000 non-null  float64\n",
      " 27  Credit_Score              100000 non-null  object \n",
      "dtypes: float64(13), int32(5), int64(3), object(7)\n",
      "memory usage: 19.5+ MB\n"
     ]
    }
   ],
   "source": [
    "df_1.info()"
   ]
  },
  {
   "cell_type": "markdown",
   "id": "7007302a-f019-4b86-ad76-7273e278e4fe",
   "metadata": {},
   "source": [
    "## Univariate Analysis of Customer Id Column"
   ]
  },
  {
   "cell_type": "code",
   "execution_count": 29,
   "id": "14471705-2173-4f7b-851a-a960a67b991b",
   "metadata": {},
   "outputs": [
    {
     "data": {
      "text/plain": [
       "12500"
      ]
     },
     "execution_count": 29,
     "metadata": {},
     "output_type": "execute_result"
    }
   ],
   "source": [
    "df_1['Customer_ID'].nunique()                      # number of unique values"
   ]
  },
  {
   "cell_type": "code",
   "execution_count": 30,
   "id": "950145b4-ab7f-47b8-b2b5-f4f0df9aae1e",
   "metadata": {},
   "outputs": [
    {
     "data": {
      "text/html": [
       "<div>\n",
       "<style scoped>\n",
       "    .dataframe tbody tr th:only-of-type {\n",
       "        vertical-align: middle;\n",
       "    }\n",
       "\n",
       "    .dataframe tbody tr th {\n",
       "        vertical-align: top;\n",
       "    }\n",
       "\n",
       "    .dataframe thead th {\n",
       "        text-align: right;\n",
       "    }\n",
       "</style>\n",
       "<table border=\"1\" class=\"dataframe\">\n",
       "  <thead>\n",
       "    <tr style=\"text-align: right;\">\n",
       "      <th></th>\n",
       "      <th>count</th>\n",
       "    </tr>\n",
       "    <tr>\n",
       "      <th>Customer_ID</th>\n",
       "      <th></th>\n",
       "    </tr>\n",
       "  </thead>\n",
       "  <tbody>\n",
       "    <tr>\n",
       "      <th>3392</th>\n",
       "      <td>8</td>\n",
       "    </tr>\n",
       "    <tr>\n",
       "      <th>39924</th>\n",
       "      <td>8</td>\n",
       "    </tr>\n",
       "    <tr>\n",
       "      <th>23267</th>\n",
       "      <td>8</td>\n",
       "    </tr>\n",
       "    <tr>\n",
       "      <th>48794</th>\n",
       "      <td>8</td>\n",
       "    </tr>\n",
       "    <tr>\n",
       "      <th>18548</th>\n",
       "      <td>8</td>\n",
       "    </tr>\n",
       "    <tr>\n",
       "      <th>...</th>\n",
       "      <td>...</td>\n",
       "    </tr>\n",
       "    <tr>\n",
       "      <th>11956</th>\n",
       "      <td>8</td>\n",
       "    </tr>\n",
       "    <tr>\n",
       "      <th>30819</th>\n",
       "      <td>8</td>\n",
       "    </tr>\n",
       "    <tr>\n",
       "      <th>40329</th>\n",
       "      <td>8</td>\n",
       "    </tr>\n",
       "    <tr>\n",
       "      <th>49221</th>\n",
       "      <td>8</td>\n",
       "    </tr>\n",
       "    <tr>\n",
       "      <th>37932</th>\n",
       "      <td>8</td>\n",
       "    </tr>\n",
       "  </tbody>\n",
       "</table>\n",
       "<p>12500 rows × 1 columns</p>\n",
       "</div>"
      ],
      "text/plain": [
       "             count\n",
       "Customer_ID       \n",
       "3392             8\n",
       "39924            8\n",
       "23267            8\n",
       "48794            8\n",
       "18548            8\n",
       "...            ...\n",
       "11956            8\n",
       "30819            8\n",
       "40329            8\n",
       "49221            8\n",
       "37932            8\n",
       "\n",
       "[12500 rows x 1 columns]"
      ]
     },
     "execution_count": 30,
     "metadata": {},
     "output_type": "execute_result"
    }
   ],
   "source": [
    "pd.DataFrame(df_1.Customer_ID.value_counts())                     # count of total number of unique values"
   ]
  },
  {
   "cell_type": "markdown",
   "id": "f4f1798c-9d50-41ef-9581-27662ac45836",
   "metadata": {},
   "source": [
    "## Univariate Analysis of Month Column"
   ]
  },
  {
   "cell_type": "code",
   "execution_count": 32,
   "id": "9a536496-352f-404a-a567-1d01171c6885",
   "metadata": {},
   "outputs": [
    {
     "data": {
      "text/plain": [
       "8"
      ]
     },
     "execution_count": 32,
     "metadata": {},
     "output_type": "execute_result"
    }
   ],
   "source": [
    "df_1['Month'].nunique()             # unique numbers"
   ]
  },
  {
   "cell_type": "code",
   "execution_count": 33,
   "id": "c3d7851c-c2f0-48e5-b238-bc01192a8294",
   "metadata": {},
   "outputs": [
    {
     "data": {
      "text/html": [
       "<div>\n",
       "<style scoped>\n",
       "    .dataframe tbody tr th:only-of-type {\n",
       "        vertical-align: middle;\n",
       "    }\n",
       "\n",
       "    .dataframe tbody tr th {\n",
       "        vertical-align: top;\n",
       "    }\n",
       "\n",
       "    .dataframe thead th {\n",
       "        text-align: right;\n",
       "    }\n",
       "</style>\n",
       "<table border=\"1\" class=\"dataframe\">\n",
       "  <thead>\n",
       "    <tr style=\"text-align: right;\">\n",
       "      <th></th>\n",
       "      <th>count</th>\n",
       "    </tr>\n",
       "    <tr>\n",
       "      <th>Month</th>\n",
       "      <th></th>\n",
       "    </tr>\n",
       "  </thead>\n",
       "  <tbody>\n",
       "    <tr>\n",
       "      <th>1</th>\n",
       "      <td>12500</td>\n",
       "    </tr>\n",
       "    <tr>\n",
       "      <th>2</th>\n",
       "      <td>12500</td>\n",
       "    </tr>\n",
       "    <tr>\n",
       "      <th>3</th>\n",
       "      <td>12500</td>\n",
       "    </tr>\n",
       "    <tr>\n",
       "      <th>4</th>\n",
       "      <td>12500</td>\n",
       "    </tr>\n",
       "    <tr>\n",
       "      <th>5</th>\n",
       "      <td>12500</td>\n",
       "    </tr>\n",
       "    <tr>\n",
       "      <th>6</th>\n",
       "      <td>12500</td>\n",
       "    </tr>\n",
       "    <tr>\n",
       "      <th>7</th>\n",
       "      <td>12500</td>\n",
       "    </tr>\n",
       "    <tr>\n",
       "      <th>8</th>\n",
       "      <td>12500</td>\n",
       "    </tr>\n",
       "  </tbody>\n",
       "</table>\n",
       "</div>"
      ],
      "text/plain": [
       "       count\n",
       "Month       \n",
       "1      12500\n",
       "2      12500\n",
       "3      12500\n",
       "4      12500\n",
       "5      12500\n",
       "6      12500\n",
       "7      12500\n",
       "8      12500"
      ]
     },
     "execution_count": 33,
     "metadata": {},
     "output_type": "execute_result"
    }
   ],
   "source": [
    "pd.DataFrame(df_1['Month'].value_counts())         # count of unique numbers"
   ]
  },
  {
   "cell_type": "code",
   "execution_count": 34,
   "id": "6cf4a04c-8436-4501-a010-3d28d0693a98",
   "metadata": {},
   "outputs": [
    {
     "data": {
      "text/html": [
       "<div>\n",
       "<style scoped>\n",
       "    .dataframe tbody tr th:only-of-type {\n",
       "        vertical-align: middle;\n",
       "    }\n",
       "\n",
       "    .dataframe tbody tr th {\n",
       "        vertical-align: top;\n",
       "    }\n",
       "\n",
       "    .dataframe thead th {\n",
       "        text-align: right;\n",
       "    }\n",
       "</style>\n",
       "<table border=\"1\" class=\"dataframe\">\n",
       "  <thead>\n",
       "    <tr style=\"text-align: right;\">\n",
       "      <th></th>\n",
       "      <th>ID</th>\n",
       "      <th>Customer_ID</th>\n",
       "      <th>Month</th>\n",
       "      <th>Name</th>\n",
       "      <th>Age</th>\n",
       "      <th>SSN</th>\n",
       "      <th>Occupation</th>\n",
       "      <th>Annual_Income</th>\n",
       "      <th>Monthly_Inhand_Salary</th>\n",
       "      <th>Num_Bank_Accounts</th>\n",
       "      <th>...</th>\n",
       "      <th>Credit_Mix</th>\n",
       "      <th>Outstanding_Debt</th>\n",
       "      <th>Credit_Utilization_Ratio</th>\n",
       "      <th>Credit_History_Age</th>\n",
       "      <th>Payment_of_Min_Amount</th>\n",
       "      <th>Total_EMI_per_month</th>\n",
       "      <th>Amount_invested_monthly</th>\n",
       "      <th>Payment_Behaviour</th>\n",
       "      <th>Monthly_Balance</th>\n",
       "      <th>Credit_Score</th>\n",
       "    </tr>\n",
       "  </thead>\n",
       "  <tbody>\n",
       "    <tr>\n",
       "      <th>0</th>\n",
       "      <td>5634</td>\n",
       "      <td>3392</td>\n",
       "      <td>1</td>\n",
       "      <td>Aaron Maashoh</td>\n",
       "      <td>23</td>\n",
       "      <td>821000265</td>\n",
       "      <td>Scientist</td>\n",
       "      <td>19114.12</td>\n",
       "      <td>1824.84</td>\n",
       "      <td>3</td>\n",
       "      <td>...</td>\n",
       "      <td>Good</td>\n",
       "      <td>809.98</td>\n",
       "      <td>26.82</td>\n",
       "      <td>265</td>\n",
       "      <td>No</td>\n",
       "      <td>49.57</td>\n",
       "      <td>21.47</td>\n",
       "      <td>High_spent_Small_value_payments</td>\n",
       "      <td>312.49</td>\n",
       "      <td>Good</td>\n",
       "    </tr>\n",
       "    <tr>\n",
       "      <th>1</th>\n",
       "      <td>5635</td>\n",
       "      <td>3392</td>\n",
       "      <td>2</td>\n",
       "      <td>Aaron Maashoh</td>\n",
       "      <td>23</td>\n",
       "      <td>821000265</td>\n",
       "      <td>Scientist</td>\n",
       "      <td>19114.12</td>\n",
       "      <td>1824.84</td>\n",
       "      <td>3</td>\n",
       "      <td>...</td>\n",
       "      <td>Good</td>\n",
       "      <td>809.98</td>\n",
       "      <td>31.94</td>\n",
       "      <td>266</td>\n",
       "      <td>No</td>\n",
       "      <td>49.57</td>\n",
       "      <td>21.47</td>\n",
       "      <td>Low_spent_Large_value_payments</td>\n",
       "      <td>284.63</td>\n",
       "      <td>Good</td>\n",
       "    </tr>\n",
       "    <tr>\n",
       "      <th>2</th>\n",
       "      <td>5636</td>\n",
       "      <td>3392</td>\n",
       "      <td>3</td>\n",
       "      <td>Aaron Maashoh</td>\n",
       "      <td>23</td>\n",
       "      <td>821000265</td>\n",
       "      <td>Scientist</td>\n",
       "      <td>19114.12</td>\n",
       "      <td>1824.84</td>\n",
       "      <td>3</td>\n",
       "      <td>...</td>\n",
       "      <td>Good</td>\n",
       "      <td>809.98</td>\n",
       "      <td>28.61</td>\n",
       "      <td>267</td>\n",
       "      <td>No</td>\n",
       "      <td>49.57</td>\n",
       "      <td>21.47</td>\n",
       "      <td>Low_spent_Medium_value_payments</td>\n",
       "      <td>331.21</td>\n",
       "      <td>Good</td>\n",
       "    </tr>\n",
       "  </tbody>\n",
       "</table>\n",
       "<p>3 rows × 28 columns</p>\n",
       "</div>"
      ],
      "text/plain": [
       "     ID  Customer_ID  Month           Name  Age        SSN Occupation  \\\n",
       "0  5634         3392      1  Aaron Maashoh   23  821000265  Scientist   \n",
       "1  5635         3392      2  Aaron Maashoh   23  821000265  Scientist   \n",
       "2  5636         3392      3  Aaron Maashoh   23  821000265  Scientist   \n",
       "\n",
       "   Annual_Income  Monthly_Inhand_Salary  Num_Bank_Accounts  ...  Credit_Mix  \\\n",
       "0       19114.12                1824.84                  3  ...        Good   \n",
       "1       19114.12                1824.84                  3  ...        Good   \n",
       "2       19114.12                1824.84                  3  ...        Good   \n",
       "\n",
       "   Outstanding_Debt  Credit_Utilization_Ratio Credit_History_Age  \\\n",
       "0            809.98                     26.82                265   \n",
       "1            809.98                     31.94                266   \n",
       "2            809.98                     28.61                267   \n",
       "\n",
       "   Payment_of_Min_Amount  Total_EMI_per_month  Amount_invested_monthly  \\\n",
       "0                     No                49.57                    21.47   \n",
       "1                     No                49.57                    21.47   \n",
       "2                     No                49.57                    21.47   \n",
       "\n",
       "                 Payment_Behaviour Monthly_Balance  Credit_Score  \n",
       "0  High_spent_Small_value_payments          312.49          Good  \n",
       "1   Low_spent_Large_value_payments          284.63          Good  \n",
       "2  Low_spent_Medium_value_payments          331.21          Good  \n",
       "\n",
       "[3 rows x 28 columns]"
      ]
     },
     "execution_count": 34,
     "metadata": {},
     "output_type": "execute_result"
    }
   ],
   "source": [
    "df_1.head(3)                  # top 3 rows "
   ]
  },
  {
   "cell_type": "code",
   "execution_count": null,
   "id": "8b8a17c6-8368-440a-9f43-42abf1e472dd",
   "metadata": {},
   "outputs": [],
   "source": []
  },
  {
   "cell_type": "markdown",
   "id": "76853d1c-c54b-4fc6-bdf2-33804f33bf4c",
   "metadata": {},
   "source": [
    "## Univariate Analysis of Name Column"
   ]
  },
  {
   "cell_type": "code",
   "execution_count": 36,
   "id": "4f9d3bd3-a486-4de6-a1d5-c8cec1136996",
   "metadata": {},
   "outputs": [
    {
     "data": {
      "text/plain": [
       "10128"
      ]
     },
     "execution_count": 36,
     "metadata": {},
     "output_type": "execute_result"
    }
   ],
   "source": [
    "df_1.Name.nunique()"
   ]
  },
  {
   "cell_type": "code",
   "execution_count": 37,
   "id": "3f5d5c37-9d9f-4fff-bd38-699c9dcf8d91",
   "metadata": {},
   "outputs": [
    {
     "data": {
      "text/plain": [
       "Name\n",
       "Jessicad              48\n",
       "Langep                48\n",
       "Stevex                48\n",
       "Vaughanl              40\n",
       "Ronald Groverk        40\n",
       "                      ..\n",
       "Breidthardtj           8\n",
       "Sven Egenterx          8\n",
       "Antonella Ciancioc     8\n",
       "Valentina Zan          8\n",
       "Nicks                  8\n",
       "Name: count, Length: 10128, dtype: int64"
      ]
     },
     "execution_count": 37,
     "metadata": {},
     "output_type": "execute_result"
    }
   ],
   "source": [
    "df_1.Name.value_counts()"
   ]
  },
  {
   "cell_type": "code",
   "execution_count": 38,
   "id": "d414f5d3-bac9-4f5f-9fe2-6594d2a38b45",
   "metadata": {},
   "outputs": [
    {
     "data": {
      "text/html": [
       "<div>\n",
       "<style scoped>\n",
       "    .dataframe tbody tr th:only-of-type {\n",
       "        vertical-align: middle;\n",
       "    }\n",
       "\n",
       "    .dataframe tbody tr th {\n",
       "        vertical-align: top;\n",
       "    }\n",
       "\n",
       "    .dataframe thead th {\n",
       "        text-align: right;\n",
       "    }\n",
       "</style>\n",
       "<table border=\"1\" class=\"dataframe\">\n",
       "  <thead>\n",
       "    <tr style=\"text-align: right;\">\n",
       "      <th></th>\n",
       "      <th>Name</th>\n",
       "      <th>count</th>\n",
       "    </tr>\n",
       "  </thead>\n",
       "  <tbody>\n",
       "    <tr>\n",
       "      <th>0</th>\n",
       "      <td>Jessicad</td>\n",
       "      <td>48</td>\n",
       "    </tr>\n",
       "    <tr>\n",
       "      <th>1</th>\n",
       "      <td>Langep</td>\n",
       "      <td>48</td>\n",
       "    </tr>\n",
       "    <tr>\n",
       "      <th>2</th>\n",
       "      <td>Stevex</td>\n",
       "      <td>48</td>\n",
       "    </tr>\n",
       "    <tr>\n",
       "      <th>3</th>\n",
       "      <td>Vaughanl</td>\n",
       "      <td>40</td>\n",
       "    </tr>\n",
       "    <tr>\n",
       "      <th>4</th>\n",
       "      <td>Ronald Groverk</td>\n",
       "      <td>40</td>\n",
       "    </tr>\n",
       "    <tr>\n",
       "      <th>5</th>\n",
       "      <td>Huwk</td>\n",
       "      <td>40</td>\n",
       "    </tr>\n",
       "    <tr>\n",
       "      <th>6</th>\n",
       "      <td>Andreaj</td>\n",
       "      <td>40</td>\n",
       "    </tr>\n",
       "    <tr>\n",
       "      <th>7</th>\n",
       "      <td>Valetkevitchv</td>\n",
       "      <td>40</td>\n",
       "    </tr>\n",
       "    <tr>\n",
       "      <th>8</th>\n",
       "      <td>Deepa Seetharamanm</td>\n",
       "      <td>40</td>\n",
       "    </tr>\n",
       "    <tr>\n",
       "      <th>9</th>\n",
       "      <td>Danielz</td>\n",
       "      <td>40</td>\n",
       "    </tr>\n",
       "  </tbody>\n",
       "</table>\n",
       "</div>"
      ],
      "text/plain": [
       "                 Name  count\n",
       "0            Jessicad     48\n",
       "1              Langep     48\n",
       "2              Stevex     48\n",
       "3            Vaughanl     40\n",
       "4      Ronald Groverk     40\n",
       "5                Huwk     40\n",
       "6             Andreaj     40\n",
       "7       Valetkevitchv     40\n",
       "8  Deepa Seetharamanm     40\n",
       "9             Danielz     40"
      ]
     },
     "execution_count": 38,
     "metadata": {},
     "output_type": "execute_result"
    }
   ],
   "source": [
    "top_10_names = pd.DataFrame(df_1.Name.value_counts().head(10)).reset_index(0)\n",
    "top_10_names                                                           # finding top 10 rows of name column"
   ]
  },
  {
   "cell_type": "code",
   "execution_count": 39,
   "id": "27f52d5b-d484-4d2a-8ce4-da607fdf3c6a",
   "metadata": {},
   "outputs": [
    {
     "data": {
      "text/html": [
       "<div>\n",
       "<style scoped>\n",
       "    .dataframe tbody tr th:only-of-type {\n",
       "        vertical-align: middle;\n",
       "    }\n",
       "\n",
       "    .dataframe tbody tr th {\n",
       "        vertical-align: top;\n",
       "    }\n",
       "\n",
       "    .dataframe thead th {\n",
       "        text-align: right;\n",
       "    }\n",
       "</style>\n",
       "<table border=\"1\" class=\"dataframe\">\n",
       "  <thead>\n",
       "    <tr style=\"text-align: right;\">\n",
       "      <th></th>\n",
       "      <th>Name</th>\n",
       "      <th>count</th>\n",
       "    </tr>\n",
       "  </thead>\n",
       "  <tbody>\n",
       "    <tr>\n",
       "      <th>0</th>\n",
       "      <td>Jeb Blountq</td>\n",
       "      <td>8</td>\n",
       "    </tr>\n",
       "    <tr>\n",
       "      <th>1</th>\n",
       "      <td>iniz</td>\n",
       "      <td>8</td>\n",
       "    </tr>\n",
       "    <tr>\n",
       "      <th>2</th>\n",
       "      <td>Nicholasq</td>\n",
       "      <td>8</td>\n",
       "    </tr>\n",
       "    <tr>\n",
       "      <th>3</th>\n",
       "      <td>Prodhane</td>\n",
       "      <td>8</td>\n",
       "    </tr>\n",
       "    <tr>\n",
       "      <th>4</th>\n",
       "      <td>Harro Teni</td>\n",
       "      <td>8</td>\n",
       "    </tr>\n",
       "    <tr>\n",
       "      <th>5</th>\n",
       "      <td>Breidthardtj</td>\n",
       "      <td>8</td>\n",
       "    </tr>\n",
       "    <tr>\n",
       "      <th>6</th>\n",
       "      <td>Sven Egenterx</td>\n",
       "      <td>8</td>\n",
       "    </tr>\n",
       "    <tr>\n",
       "      <th>7</th>\n",
       "      <td>Antonella Ciancioc</td>\n",
       "      <td>8</td>\n",
       "    </tr>\n",
       "    <tr>\n",
       "      <th>8</th>\n",
       "      <td>Valentina Zan</td>\n",
       "      <td>8</td>\n",
       "    </tr>\n",
       "    <tr>\n",
       "      <th>9</th>\n",
       "      <td>Nicks</td>\n",
       "      <td>8</td>\n",
       "    </tr>\n",
       "  </tbody>\n",
       "</table>\n",
       "</div>"
      ],
      "text/plain": [
       "                 Name  count\n",
       "0         Jeb Blountq      8\n",
       "1                iniz      8\n",
       "2           Nicholasq      8\n",
       "3            Prodhane      8\n",
       "4          Harro Teni      8\n",
       "5        Breidthardtj      8\n",
       "6       Sven Egenterx      8\n",
       "7  Antonella Ciancioc      8\n",
       "8       Valentina Zan      8\n",
       "9               Nicks      8"
      ]
     },
     "execution_count": 39,
     "metadata": {},
     "output_type": "execute_result"
    }
   ],
   "source": [
    "bottom_10_names = pd.DataFrame(df_1.Name.value_counts().tail(10)).reset_index(0)\n",
    "bottom_10_names                                                           # finding bottom 10 rows of name column"
   ]
  },
  {
   "cell_type": "code",
   "execution_count": null,
   "id": "eea9bd6e-db91-4860-b580-1708c873d002",
   "metadata": {},
   "outputs": [],
   "source": []
  },
  {
   "cell_type": "markdown",
   "id": "06d661bf-3479-450b-a1a8-c087df874c95",
   "metadata": {},
   "source": [
    "## Univariate Analysis of Age Column"
   ]
  },
  {
   "cell_type": "code",
   "execution_count": 41,
   "id": "18a38f92-b864-470f-8a28-cd1d879da767",
   "metadata": {},
   "outputs": [
    {
     "data": {
      "text/plain": [
       "43"
      ]
     },
     "execution_count": 41,
     "metadata": {},
     "output_type": "execute_result"
    }
   ],
   "source": [
    "df_1.Age.nunique()"
   ]
  },
  {
   "cell_type": "code",
   "execution_count": 42,
   "id": "2857a03b-af52-43b5-bdc6-c6057a633a9e",
   "metadata": {},
   "outputs": [
    {
     "data": {
      "text/html": [
       "<div>\n",
       "<style scoped>\n",
       "    .dataframe tbody tr th:only-of-type {\n",
       "        vertical-align: middle;\n",
       "    }\n",
       "\n",
       "    .dataframe tbody tr th {\n",
       "        vertical-align: top;\n",
       "    }\n",
       "\n",
       "    .dataframe thead th {\n",
       "        text-align: right;\n",
       "    }\n",
       "</style>\n",
       "<table border=\"1\" class=\"dataframe\">\n",
       "  <thead>\n",
       "    <tr style=\"text-align: right;\">\n",
       "      <th></th>\n",
       "      <th>Age</th>\n",
       "      <th>count</th>\n",
       "    </tr>\n",
       "  </thead>\n",
       "  <tbody>\n",
       "    <tr>\n",
       "      <th>0</th>\n",
       "      <td>38</td>\n",
       "      <td>3070</td>\n",
       "    </tr>\n",
       "    <tr>\n",
       "      <th>1</th>\n",
       "      <td>28</td>\n",
       "      <td>3045</td>\n",
       "    </tr>\n",
       "    <tr>\n",
       "      <th>2</th>\n",
       "      <td>31</td>\n",
       "      <td>3037</td>\n",
       "    </tr>\n",
       "    <tr>\n",
       "      <th>3</th>\n",
       "      <td>26</td>\n",
       "      <td>3025</td>\n",
       "    </tr>\n",
       "    <tr>\n",
       "      <th>4</th>\n",
       "      <td>32</td>\n",
       "      <td>2969</td>\n",
       "    </tr>\n",
       "    <tr>\n",
       "      <th>5</th>\n",
       "      <td>36</td>\n",
       "      <td>2953</td>\n",
       "    </tr>\n",
       "    <tr>\n",
       "      <th>6</th>\n",
       "      <td>25</td>\n",
       "      <td>2952</td>\n",
       "    </tr>\n",
       "    <tr>\n",
       "      <th>7</th>\n",
       "      <td>27</td>\n",
       "      <td>2951</td>\n",
       "    </tr>\n",
       "    <tr>\n",
       "      <th>8</th>\n",
       "      <td>35</td>\n",
       "      <td>2940</td>\n",
       "    </tr>\n",
       "    <tr>\n",
       "      <th>9</th>\n",
       "      <td>39</td>\n",
       "      <td>2927</td>\n",
       "    </tr>\n",
       "    <tr>\n",
       "      <th>10</th>\n",
       "      <td>34</td>\n",
       "      <td>2922</td>\n",
       "    </tr>\n",
       "    <tr>\n",
       "      <th>11</th>\n",
       "      <td>44</td>\n",
       "      <td>2902</td>\n",
       "    </tr>\n",
       "    <tr>\n",
       "      <th>12</th>\n",
       "      <td>22</td>\n",
       "      <td>2890</td>\n",
       "    </tr>\n",
       "    <tr>\n",
       "      <th>13</th>\n",
       "      <td>19</td>\n",
       "      <td>2875</td>\n",
       "    </tr>\n",
       "    <tr>\n",
       "      <th>14</th>\n",
       "      <td>41</td>\n",
       "      <td>2865</td>\n",
       "    </tr>\n",
       "    <tr>\n",
       "      <th>15</th>\n",
       "      <td>20</td>\n",
       "      <td>2833</td>\n",
       "    </tr>\n",
       "    <tr>\n",
       "      <th>16</th>\n",
       "      <td>37</td>\n",
       "      <td>2832</td>\n",
       "    </tr>\n",
       "    <tr>\n",
       "      <th>17</th>\n",
       "      <td>29</td>\n",
       "      <td>2823</td>\n",
       "    </tr>\n",
       "    <tr>\n",
       "      <th>18</th>\n",
       "      <td>43</td>\n",
       "      <td>2809</td>\n",
       "    </tr>\n",
       "    <tr>\n",
       "      <th>19</th>\n",
       "      <td>30</td>\n",
       "      <td>2807</td>\n",
       "    </tr>\n",
       "    <tr>\n",
       "      <th>20</th>\n",
       "      <td>21</td>\n",
       "      <td>2792</td>\n",
       "    </tr>\n",
       "    <tr>\n",
       "      <th>21</th>\n",
       "      <td>24</td>\n",
       "      <td>2789</td>\n",
       "    </tr>\n",
       "    <tr>\n",
       "      <th>22</th>\n",
       "      <td>23</td>\n",
       "      <td>2719</td>\n",
       "    </tr>\n",
       "    <tr>\n",
       "      <th>23</th>\n",
       "      <td>45</td>\n",
       "      <td>2712</td>\n",
       "    </tr>\n",
       "    <tr>\n",
       "      <th>24</th>\n",
       "      <td>40</td>\n",
       "      <td>2695</td>\n",
       "    </tr>\n",
       "    <tr>\n",
       "      <th>25</th>\n",
       "      <td>42</td>\n",
       "      <td>2643</td>\n",
       "    </tr>\n",
       "    <tr>\n",
       "      <th>26</th>\n",
       "      <td>33</td>\n",
       "      <td>2623</td>\n",
       "    </tr>\n",
       "    <tr>\n",
       "      <th>27</th>\n",
       "      <td>18</td>\n",
       "      <td>2427</td>\n",
       "    </tr>\n",
       "    <tr>\n",
       "      <th>28</th>\n",
       "      <td>46</td>\n",
       "      <td>1670</td>\n",
       "    </tr>\n",
       "    <tr>\n",
       "      <th>29</th>\n",
       "      <td>15</td>\n",
       "      <td>1615</td>\n",
       "    </tr>\n",
       "    <tr>\n",
       "      <th>30</th>\n",
       "      <td>17</td>\n",
       "      <td>1551</td>\n",
       "    </tr>\n",
       "    <tr>\n",
       "      <th>31</th>\n",
       "      <td>16</td>\n",
       "      <td>1505</td>\n",
       "    </tr>\n",
       "    <tr>\n",
       "      <th>32</th>\n",
       "      <td>49</td>\n",
       "      <td>1419</td>\n",
       "    </tr>\n",
       "    <tr>\n",
       "      <th>33</th>\n",
       "      <td>48</td>\n",
       "      <td>1416</td>\n",
       "    </tr>\n",
       "    <tr>\n",
       "      <th>34</th>\n",
       "      <td>55</td>\n",
       "      <td>1395</td>\n",
       "    </tr>\n",
       "    <tr>\n",
       "      <th>35</th>\n",
       "      <td>53</td>\n",
       "      <td>1394</td>\n",
       "    </tr>\n",
       "    <tr>\n",
       "      <th>36</th>\n",
       "      <td>52</td>\n",
       "      <td>1388</td>\n",
       "    </tr>\n",
       "    <tr>\n",
       "      <th>37</th>\n",
       "      <td>54</td>\n",
       "      <td>1342</td>\n",
       "    </tr>\n",
       "    <tr>\n",
       "      <th>38</th>\n",
       "      <td>51</td>\n",
       "      <td>1332</td>\n",
       "    </tr>\n",
       "    <tr>\n",
       "      <th>39</th>\n",
       "      <td>50</td>\n",
       "      <td>1305</td>\n",
       "    </tr>\n",
       "    <tr>\n",
       "      <th>40</th>\n",
       "      <td>47</td>\n",
       "      <td>1265</td>\n",
       "    </tr>\n",
       "    <tr>\n",
       "      <th>41</th>\n",
       "      <td>14</td>\n",
       "      <td>1197</td>\n",
       "    </tr>\n",
       "    <tr>\n",
       "      <th>42</th>\n",
       "      <td>56</td>\n",
       "      <td>379</td>\n",
       "    </tr>\n",
       "  </tbody>\n",
       "</table>\n",
       "</div>"
      ],
      "text/plain": [
       "    Age  count\n",
       "0    38   3070\n",
       "1    28   3045\n",
       "2    31   3037\n",
       "3    26   3025\n",
       "4    32   2969\n",
       "5    36   2953\n",
       "6    25   2952\n",
       "7    27   2951\n",
       "8    35   2940\n",
       "9    39   2927\n",
       "10   34   2922\n",
       "11   44   2902\n",
       "12   22   2890\n",
       "13   19   2875\n",
       "14   41   2865\n",
       "15   20   2833\n",
       "16   37   2832\n",
       "17   29   2823\n",
       "18   43   2809\n",
       "19   30   2807\n",
       "20   21   2792\n",
       "21   24   2789\n",
       "22   23   2719\n",
       "23   45   2712\n",
       "24   40   2695\n",
       "25   42   2643\n",
       "26   33   2623\n",
       "27   18   2427\n",
       "28   46   1670\n",
       "29   15   1615\n",
       "30   17   1551\n",
       "31   16   1505\n",
       "32   49   1419\n",
       "33   48   1416\n",
       "34   55   1395\n",
       "35   53   1394\n",
       "36   52   1388\n",
       "37   54   1342\n",
       "38   51   1332\n",
       "39   50   1305\n",
       "40   47   1265\n",
       "41   14   1197\n",
       "42   56    379"
      ]
     },
     "execution_count": 42,
     "metadata": {},
     "output_type": "execute_result"
    }
   ],
   "source": [
    "age_count = pd.DataFrame(df_1.Age.value_counts()).reset_index(0)\n",
    "age_count                                                   # making dataframe of age column"
   ]
  },
  {
   "cell_type": "code",
   "execution_count": null,
   "id": "a0c00a62-c8c0-4c2d-9681-c75f2a6da2b7",
   "metadata": {},
   "outputs": [],
   "source": []
  },
  {
   "cell_type": "markdown",
   "id": "a23b2de7-7f35-44f6-90e5-4c11f42963b0",
   "metadata": {},
   "source": [
    "# Visualization by Univariate Analysis of Age Column"
   ]
  },
  {
   "cell_type": "markdown",
   "id": "bf0ac50d-7b3b-496a-82b7-a511b33b5913",
   "metadata": {},
   "source": [
    "Histogram - Histograms shows better distribution of numerical features (whether skewed or normal).\n",
    "            A histogram with KDE curve was used because it clearly shows the distribution of ages and highlights where most customers fall."
   ]
  },
  {
   "cell_type": "code",
   "execution_count": 45,
   "id": "65126b8a-eef1-4ce4-aca8-be428f71158c",
   "metadata": {},
   "outputs": [
    {
     "data": {
      "image/png": "[encoded data removed]",
      "text/plain": [
       "<Figure size 640x480 with 1 Axes>"
      ]
     },
     "metadata": {},
     "output_type": "display_data"
    }
   ],
   "source": [
    "sns.histplot(df_1[\"Age\"], bins=10, kde=True, color='purple')             # visualize by histogram\n",
    "plt.title('Counting by Age',fontsize=20)\n",
    "plt.show()                                                      "
   ]
  },
  {
   "cell_type": "markdown",
   "id": "449bed47-5eee-47a3-bb44-9104c15f3410",
   "metadata": {},
   "source": [
    "Findings - \n",
    "1. Age range: Most customers fall between 20 to 50 years.\n",
    "2. Peak group: The largest concentration is around 35–40 years.\n",
    "3. Youth segment: A good proportion of applicants are 20–30 years old, showing younger individuals are also seeking credit.\n",
    "4. Decline at higher ages: Fewer customers are above 50 years, indicating older individuals are less represented in credit applications.\n",
    "5. Distribution of Shape :\n",
    "   * Slight right-skew because younger age groups are more frequent than older groups.\n",
    "   * Relatively uniform in the middle (20–45 years).\n",
    "\n",
    "Positive Business Impact (Age 25-40) -\n",
    " * This group is in their prime earning years, meaning steady income and better repayment capacity.\n",
    "\n",
    "Risks & Potential Negative Growth (Age>50) -\n",
    " * The chart shows very few applicants above 50, which signals a missed opportunity."
   ]
  },
  {
   "cell_type": "code",
   "execution_count": null,
   "id": "26d602e5-93fe-4293-83e9-58394b848b9e",
   "metadata": {},
   "outputs": [],
   "source": []
  },
  {
   "cell_type": "markdown",
   "id": "69725378-0ed5-4fa7-bb0f-bcfa98ef5fa3",
   "metadata": {},
   "source": [
    "# Visualization by Univariate Analysis of Occupation Column"
   ]
  },
  {
   "cell_type": "code",
   "execution_count": 48,
   "id": "0e7791e8-0001-4ef5-8ef5-cfbabdeb335f",
   "metadata": {},
   "outputs": [
    {
     "data": {
      "text/plain": [
       "15"
      ]
     },
     "execution_count": 48,
     "metadata": {},
     "output_type": "execute_result"
    }
   ],
   "source": [
    "df_1.Occupation.nunique()"
   ]
  },
  {
   "cell_type": "code",
   "execution_count": 49,
   "id": "43245c7f-4be7-483e-8055-b04192319f59",
   "metadata": {},
   "outputs": [
    {
     "data": {
      "text/html": [
       "<div>\n",
       "<style scoped>\n",
       "    .dataframe tbody tr th:only-of-type {\n",
       "        vertical-align: middle;\n",
       "    }\n",
       "\n",
       "    .dataframe tbody tr th {\n",
       "        vertical-align: top;\n",
       "    }\n",
       "\n",
       "    .dataframe thead th {\n",
       "        text-align: right;\n",
       "    }\n",
       "</style>\n",
       "<table border=\"1\" class=\"dataframe\">\n",
       "  <thead>\n",
       "    <tr style=\"text-align: right;\">\n",
       "      <th></th>\n",
       "      <th>Occupation</th>\n",
       "      <th>count</th>\n",
       "    </tr>\n",
       "  </thead>\n",
       "  <tbody>\n",
       "    <tr>\n",
       "      <th>0</th>\n",
       "      <td>Lawyer</td>\n",
       "      <td>7096</td>\n",
       "    </tr>\n",
       "    <tr>\n",
       "      <th>1</th>\n",
       "      <td>Engineer</td>\n",
       "      <td>6864</td>\n",
       "    </tr>\n",
       "    <tr>\n",
       "      <th>2</th>\n",
       "      <td>Architect</td>\n",
       "      <td>6824</td>\n",
       "    </tr>\n",
       "    <tr>\n",
       "      <th>3</th>\n",
       "      <td>Mechanic</td>\n",
       "      <td>6776</td>\n",
       "    </tr>\n",
       "    <tr>\n",
       "      <th>4</th>\n",
       "      <td>Scientist</td>\n",
       "      <td>6744</td>\n",
       "    </tr>\n",
       "    <tr>\n",
       "      <th>5</th>\n",
       "      <td>Accountant</td>\n",
       "      <td>6744</td>\n",
       "    </tr>\n",
       "    <tr>\n",
       "      <th>6</th>\n",
       "      <td>Developer</td>\n",
       "      <td>6720</td>\n",
       "    </tr>\n",
       "    <tr>\n",
       "      <th>7</th>\n",
       "      <td>Media_Manager</td>\n",
       "      <td>6720</td>\n",
       "    </tr>\n",
       "    <tr>\n",
       "      <th>8</th>\n",
       "      <td>Teacher</td>\n",
       "      <td>6672</td>\n",
       "    </tr>\n",
       "    <tr>\n",
       "      <th>9</th>\n",
       "      <td>Entrepreneur</td>\n",
       "      <td>6648</td>\n",
       "    </tr>\n",
       "    <tr>\n",
       "      <th>10</th>\n",
       "      <td>Doctor</td>\n",
       "      <td>6568</td>\n",
       "    </tr>\n",
       "    <tr>\n",
       "      <th>11</th>\n",
       "      <td>Journalist</td>\n",
       "      <td>6536</td>\n",
       "    </tr>\n",
       "    <tr>\n",
       "      <th>12</th>\n",
       "      <td>Manager</td>\n",
       "      <td>6432</td>\n",
       "    </tr>\n",
       "    <tr>\n",
       "      <th>13</th>\n",
       "      <td>Musician</td>\n",
       "      <td>6352</td>\n",
       "    </tr>\n",
       "    <tr>\n",
       "      <th>14</th>\n",
       "      <td>Writer</td>\n",
       "      <td>6304</td>\n",
       "    </tr>\n",
       "  </tbody>\n",
       "</table>\n",
       "</div>"
      ],
      "text/plain": [
       "       Occupation  count\n",
       "0          Lawyer   7096\n",
       "1        Engineer   6864\n",
       "2       Architect   6824\n",
       "3        Mechanic   6776\n",
       "4       Scientist   6744\n",
       "5      Accountant   6744\n",
       "6       Developer   6720\n",
       "7   Media_Manager   6720\n",
       "8         Teacher   6672\n",
       "9    Entrepreneur   6648\n",
       "10         Doctor   6568\n",
       "11     Journalist   6536\n",
       "12        Manager   6432\n",
       "13       Musician   6352\n",
       "14         Writer   6304"
      ]
     },
     "execution_count": 49,
     "metadata": {},
     "output_type": "execute_result"
    }
   ],
   "source": [
    "occupation = pd.DataFrame(df_1.Occupation.value_counts()).reset_index(0)\n",
    "occupation"
   ]
  },
  {
   "cell_type": "markdown",
   "id": "ba5a51d0-d3b0-48f2-8a81-bb55201a424b",
   "metadata": {},
   "source": [
    "### Count of Customers according to Occupation"
   ]
  },
  {
   "cell_type": "markdown",
   "id": "ba60f8fb-5711-482a-aac8-03d58b531a72",
   "metadata": {},
   "source": [
    "A horizontal bar chart is the best choice here because:\n",
    "1. It allows easy comparison across many categories (occupations).\n",
    "2. The sorted arrangement highlights which professions dominate and which lag."
   ]
  },
  {
   "cell_type": "code",
   "execution_count": 52,
   "id": "09da2a84-a888-4d35-82d2-bf212f8c4cb2",
   "metadata": {},
   "outputs": [
    {
     "data": {
      "image/png": "[encoded data removed]",
      "text/plain": [
       "<Figure size 800x500 with 1 Axes>"
      ]
     },
     "metadata": {},
     "output_type": "display_data"
    }
   ],
   "source": [
    "plt.figure(figsize=(8,5))\n",
    "sns.barplot(x='count',y='Occupation',data=occupation, hue='Occupation',palette='rainbow')\n",
    "plt.xlabel('Total count',fontsize=15)\n",
    "plt.ylabel('Occupation',fontsize=15)                                  # plotting the barplot for the occupation column\n",
    "plt.title('Occupation Count',fontsize=20)\n",
    "plt.show()"
   ]
  },
  {
   "cell_type": "markdown",
   "id": "4b9c161c-de2b-4dba-b066-48edc9dee55a",
   "metadata": {},
   "source": [
    "Findings - \n",
    "1. High Representation of Lawyers, Engineers, and Architects -\n",
    "   * These three professions dominate the dataset with the highest customer counts.\n",
    "2. Balanced Distribution Across Other Professions -\n",
    "   * Roles like Accountant, Developer, Teacher, Entrepreneur, and Doctor also show significant representation.\n",
    "3. Low Representation of Creative Professions (Writer, Musician, Journalist) -\n",
    "   * These occupations are at the lower end of the chart.\n"
   ]
  },
  {
   "cell_type": "markdown",
   "id": "a51210c4-c115-4a3d-8c82-e35e3d5fa988",
   "metadata": {},
   "source": [
    "Positive Growth :-\n",
    "1. Professionals with stable income (Lawyer, Engineer, Architect, Accountant, Doctor) dominate → ensures low default risk and steady revenue.\n",
    "\n",
    "Negative Growth :-\n",
    "1. Underrepresentation of creative/irregular income jobs (Writer, Musician, Journalist)."
   ]
  },
  {
   "cell_type": "code",
   "execution_count": null,
   "id": "30e36b2f-08c5-4770-927b-d408db697006",
   "metadata": {},
   "outputs": [],
   "source": []
  },
  {
   "cell_type": "markdown",
   "id": "e1958e1b-0ef1-428b-9bbd-6468b0609943",
   "metadata": {},
   "source": [
    "# Visualization by Bivariate Analysis of Occupation and Annual Income Column"
   ]
  },
  {
   "cell_type": "markdown",
   "id": "9bc31707-8b2c-42b4-b310-3153e17e1ffe",
   "metadata": {},
   "source": [
    "A horizontal bar chart of means was ideal because:\n",
    "1. It allows easy comparison of income levels across occupations.\n",
    "2. Sorting highlights top and bottom income groups clearly.\n",
    "\n",
    "This makes it much easier to identify high-value vs low-value segments for business strategy."
   ]
  },
  {
   "cell_type": "code",
   "execution_count": 57,
   "id": "61dd3831-b2f6-4100-9eef-221e15b33ec5",
   "metadata": {},
   "outputs": [
    {
     "data": {
      "image/png": "[encoded data removed]",
      "text/plain": [
       "<Figure size 800x500 with 1 Axes>"
      ]
     },
     "metadata": {},
     "output_type": "display_data"
    }
   ],
   "source": [
    "plt.figure(figsize=(8,5))\n",
    "df_1.groupby('Occupation')['Annual_Income'].mean().sort_values().plot(kind=\"barh\",color='green')\n",
    "plt.title('Occupation vs Average Annual Income')\n",
    "plt.xlabel('Average Annual Income')                                      # grouping occupation column for Annual income\n",
    "plt.show()"
   ]
  },
  {
   "cell_type": "markdown",
   "id": "8285633a-4f72-4cc9-a8f8-05e12a820a08",
   "metadata": {},
   "source": [
    "Findings - \n",
    "1. Architects have the Highest Average Annual Income (~52,000)\n",
    "   * Indicates strong earning potential and financial stability.\n",
    "   * They are attractive customers for premium credit/loan products.\n",
    "2. Journalists Have the Lowest Average Annual Income (~48,500)\n",
    "   * This suggests limited disposable income and potentially higher credit risk.\n",
    "3. Narrow Range of Incomes (48,500 – 52,000)\n",
    "   * Indicates that the dataset largely represents middle-to-upper middle-income groups.\n",
    "4. Stable Professions like Doctors, Engineers, Managers, and Scientists"
   ]
  },
  {
   "cell_type": "markdown",
   "id": "08962bad-d4dc-4e83-815d-659d04ca1e7b",
   "metadata": {},
   "source": [
    "Positive Growth :-\n",
    "1. High-income groups (Architects, Managers, Doctors, Engineers) provide profitable opportunities for credit cards, loans, and investment products.\n",
    "2. These customers are less likely to default, ensuring steady long-term growth.\n",
    "  \n",
    "Negative Growth :-\n",
    "1. Low-income occupations (Journalists, Writers, Musicians) may face repayment challenges."
   ]
  },
  {
   "cell_type": "code",
   "execution_count": null,
   "id": "e589efd4-81ba-4f37-888c-27adc96564b9",
   "metadata": {},
   "outputs": [],
   "source": []
  },
  {
   "cell_type": "markdown",
   "id": "7fb6e367-3fee-4283-814f-c3cb8d01bc2c",
   "metadata": {},
   "source": [
    "# Visualization by Univariate Analysis of Annual Income Column"
   ]
  },
  {
   "cell_type": "markdown",
   "id": "9ea7aba8-520b-479e-8084-d7dece1e5d6c",
   "metadata": {},
   "source": [
    "A boxplot is the best choice because it:\n",
    "1. Shows spread, central tendency, and variability in salaries.\n",
    "2. Highlights outliers clearly, which histograms or bar charts cannot show effectively.\n",
    "3. Helps in understanding income inequality and risk segmentation within the dataset."
   ]
  },
  {
   "cell_type": "code",
   "execution_count": 62,
   "id": "501e2f04-5e7e-40f8-bdac-04aae63d5965",
   "metadata": {},
   "outputs": [
    {
     "data": {
      "text/plain": [
       "12486"
      ]
     },
     "execution_count": 62,
     "metadata": {},
     "output_type": "execute_result"
    }
   ],
   "source": [
    "df_1.Annual_Income.nunique()"
   ]
  },
  {
   "cell_type": "code",
   "execution_count": 63,
   "id": "aff557e0-efb6-4ccb-9439-e39d5b22a3ad",
   "metadata": {},
   "outputs": [
    {
     "data": {
      "image/png": "[encoded data removed]",
      "text/plain": [
       "<Figure size 640x480 with 1 Axes>"
      ]
     },
     "metadata": {},
     "output_type": "display_data"
    }
   ],
   "source": [
    "plt.boxplot(df_1['Annual_Income'])\n",
    "plt.title('Annual Salary Chart',fontsize=20)\n",
    "plt.ylabel('Annual Salary',fontsize=15)\n",
    "plt.show()"
   ]
  },
  {
   "cell_type": "markdown",
   "id": "71dbbb65-00ed-43a4-8b22-d924bbf8615c",
   "metadata": {},
   "source": [
    "Findings - \n",
    "1. Median Salary (~35,000–40,000)\n",
    "   * The orange line (median) shows that half of the customers earn less than ~40,000 annually, which indicates the dataset is skewed towards mid-             income earners.\n",
    "2. Interquartile Range (IQR: ~20,000 to ~70,000)\n",
    "   * The majority of customers fall within this range.\n",
    "3. Presence of High Outliers (>150,000 up to ~180,000)\n",
    "   * A few customers earn significantly higher incomes than the rest.\n",
    "4. Distribution Shape\n",
    "   * The presence of many outliers and a long upper whisker indicates a right-skewed distribution (a few very high earners pulling the average up)."
   ]
  },
  {
   "cell_type": "markdown",
   "id": "61c4e72c-adbd-420c-b2a0-56a73246e13e",
   "metadata": {},
   "source": [
    "Positive Growth :-\n",
    "Outliers (high earners) → represent premium customers with strong repayment capacity.\n",
    "\n",
    "Negative Growth :-\n",
    "Low-income customers (<20,000) could pose a higher default risk, reducing profitability."
   ]
  },
  {
   "cell_type": "markdown",
   "id": "26abc06c-9aac-48f4-b801-8b84e02e59e9",
   "metadata": {},
   "source": [
    "### Analysis by Histogram "
   ]
  },
  {
   "cell_type": "markdown",
   "id": "5f4d4cc4-2471-48f1-8d52-6776338a6113",
   "metadata": {},
   "source": [
    "A histogram with KDE overlay is perfect here because:\n",
    "1. It shows the frequency distribution of incomes across ranges.\n",
    "2. The KDE adds smoothness, helping to identify overall income trends and density.\n",
    "3. It provides a clearer understanding of where most customers fall and where outliers exist"
   ]
  },
  {
   "cell_type": "code",
   "execution_count": 68,
   "id": "3953a083-a5f4-48a6-b169-64dcaabdb36b",
   "metadata": {},
   "outputs": [
    {
     "data": {
      "image/png": "[encoded data removed]",
      "text/plain": [
       "<Figure size 640x480 with 1 Axes>"
      ]
     },
     "metadata": {},
     "output_type": "display_data"
    }
   ],
   "source": [
    "sns.histplot(df_1[\"Annual_Income\"], bins=20, kde=True, color='#FF5733')\n",
    "plt.title('Distribution of Annual Income',fontsize=20)\n",
    "plt.show()"
   ]
  },
  {
   "cell_type": "markdown",
   "id": "28384ed1-5299-49c4-bc1c-137185c7636f",
   "metadata": {},
   "source": [
    "Findings - \n",
    "1. Right-Skewed Distribution\n",
    "   * Most customers earn between 10,000 and 50,000 annually, as shown by the high concentration of bars on the left.\n",
    "   * Fewer customers exist in the high-income range (>100,000).\n",
    "2. Major Cluster (Low-to-Mid Income)\n",
    "   * The peak around 20,000–30,000 shows that the majority of the customer base belongs to middle-income groups.\n",
    "   * This indicates the company’s current services are more accessible to middle earners.\n",
    "3. Long Tail of High Incomes (Outliers)\n",
    "   * Some customers earn up to 180,000, but they are rare.\n",
    "   * These represent high-value, premium clients who may require exclusive financial products.\n",
    "4. KDE Curve\n",
    "   * The KDE line confirms the skewness and helps identify the smooth density of income distribution, not just counts."
   ]
  },
  {
   "cell_type": "markdown",
   "id": "d2189214-1d77-441d-9d4d-2e5dcf376fc7",
   "metadata": {},
   "source": [
    "Positive Growth :-\n",
    "* Middle-income dominance (20,000–50,000) → indicates a large, stable, and scalable market for personal loans, credit cards, and financial services.\n",
    "\n",
    "Potential Negative Growth :-\n",
    "* Heavy reliance on low-to-mid income groups may limit profitability, as their spending and borrowing capacity is lower.\n",
    "* Income inequality (few very high earners vs many low earners) could cause challenges in designing one-size-fits-all products.\n",
    "* Extending large loans to lower-income customers increases default risk."
   ]
  },
  {
   "cell_type": "code",
   "execution_count": 71,
   "id": "68990873-2865-4a86-aedc-7519c4f124bc",
   "metadata": {},
   "outputs": [
    {
     "data": {
      "text/plain": [
       "Index(['ID', 'Customer_ID', 'Month', 'Name', 'Age', 'SSN', 'Occupation',\n",
       "       'Annual_Income', 'Monthly_Inhand_Salary', 'Num_Bank_Accounts',\n",
       "       'Num_Credit_Card', 'Interest_Rate', 'Num_of_Loan', 'Type_of_Loan',\n",
       "       'Delay_from_due_date', 'Num_of_Delayed_Payment', 'Changed_Credit_Limit',\n",
       "       'Num_Credit_Inquiries', 'Credit_Mix', 'Outstanding_Debt',\n",
       "       'Credit_Utilization_Ratio', 'Credit_History_Age',\n",
       "       'Payment_of_Min_Amount', 'Total_EMI_per_month',\n",
       "       'Amount_invested_monthly', 'Payment_Behaviour', 'Monthly_Balance',\n",
       "       'Credit_Score'],\n",
       "      dtype='object')"
      ]
     },
     "execution_count": 71,
     "metadata": {},
     "output_type": "execute_result"
    }
   ],
   "source": [
    "df_1.columns                    # names of all columns"
   ]
  },
  {
   "cell_type": "code",
   "execution_count": null,
   "id": "75bade6b-978a-43ac-9b27-09a28bad326e",
   "metadata": {},
   "outputs": [],
   "source": []
  },
  {
   "cell_type": "markdown",
   "id": "7d6e45c7-4c17-4a9c-99e4-32caddbd5624",
   "metadata": {},
   "source": [
    "# Visualization by Univariate Analysis of Monthly Salary Column"
   ]
  },
  {
   "cell_type": "markdown",
   "id": "f70de99e-894c-48df-8987-b48b1db7254f",
   "metadata": {},
   "source": [
    "* A boxplot is excellent for showing salary distribution, spread, and skewness at a glance.\n",
    "* It highlights median, quartiles, and outliers clearly.\n",
    "* Better than a bar/line chart when analyzing salary inequality or distribution trends."
   ]
  },
  {
   "cell_type": "code",
   "execution_count": 74,
   "id": "5f732f97-d58d-4678-a116-32c19d79f81d",
   "metadata": {},
   "outputs": [
    {
     "data": {
      "text/plain": [
       "13130"
      ]
     },
     "execution_count": 74,
     "metadata": {},
     "output_type": "execute_result"
    }
   ],
   "source": [
    "df_1.Monthly_Inhand_Salary.nunique()"
   ]
  },
  {
   "cell_type": "code",
   "execution_count": 75,
   "id": "31953c26-0b5b-4601-bdd7-3281bcfb7273",
   "metadata": {},
   "outputs": [
    {
     "data": {
      "image/png": "[encoded data removed]",
      "text/plain": [
       "<Figure size 640x480 with 1 Axes>"
      ]
     },
     "metadata": {},
     "output_type": "display_data"
    }
   ],
   "source": [
    "plt.boxplot(df_1['Monthly_Inhand_Salary'])\n",
    "plt.title('Monthly Salary Chart',fontsize=20)\n",
    "plt.ylabel('Monthly Salary',fontsize=15)\n",
    "plt.show()"
   ]
  },
  {
   "cell_type": "markdown",
   "id": "71e1e5bb-2a0b-4496-b187-7df7c6364d41",
   "metadata": {},
   "source": [
    "Findings -\n",
    "1. Median below the mean\n",
    "  * This indicates the distribution is right-skewed (some very high salaries pulling the mean upward).\n",
    "\n",
    "2. High variability\n",
    "  * The interquartile range (IQR = Q3 – Q1) shows a wide spread of salaries.\n",
    "  * Suggests income inequality in the dataset.\n",
    "\n",
    "3. Outliers\n",
    "  * Many salaries above ~₹12,500 are plotted as outliers.\n",
    "  * Indicates a small group of employees earn significantly higher than the majority.\n",
    "    \n",
    "4. Concentration of salaries\n",
    "  * Suggests the majority are in the lower-to-mid salary range."
   ]
  },
  {
   "cell_type": "markdown",
   "id": "d1c52e8a-eb48-4c7c-a38b-5cc9dadeeeea",
   "metadata": {},
   "source": [
    "Negative Growth :-\n",
    "1. Skewed distribution: High concentration in lower salary ranges and fewer in the higher range → indicates inequality.\n",
    "2. Outliers: Too many high outliers may distort the perception of average salary.\n",
    "\n",
    "Positive Growth :-\n",
    "1. Presence of higher salaries (~₹15,000) shows opportunities for upward mobility.\n",
    "2. The dataset includes diverse salary ranges, useful for comparative studies."
   ]
  },
  {
   "cell_type": "code",
   "execution_count": null,
   "id": "ea20483a-e916-44f3-8165-7f3cb985820f",
   "metadata": {},
   "outputs": [],
   "source": []
  },
  {
   "cell_type": "markdown",
   "id": "3ef8219f-4a01-4195-9cda-887cf60ec26b",
   "metadata": {},
   "source": [
    "## Visualization by Bivariate Analysis of Credit Score and Monthly Salary"
   ]
  },
  {
   "cell_type": "markdown",
   "id": "f95559aa-ef4e-4350-8b17-beb33d4c9447",
   "metadata": {},
   "source": [
    "* A grouped boxplot allows comparison of salary distributions across categories.\n",
    "* It clearly shows the relationship between salary level and credit score quality.\n",
    "* More effective than just averages, since it highlights income spread, concentration, and outliers."
   ]
  },
  {
   "cell_type": "code",
   "execution_count": 80,
   "id": "8343a565-3cd1-496f-bd3b-e9925d516392",
   "metadata": {},
   "outputs": [
    {
     "data": {
      "image/png": "[encoded data removed]",
      "text/plain": [
       "<Figure size 800x500 with 1 Axes>"
      ]
     },
     "metadata": {},
     "output_type": "display_data"
    }
   ],
   "source": [
    "plt.figure(figsize=(8,5))\n",
    "sns.boxplot(x=\"Credit_Score\", y=\"Monthly_Inhand_Salary\", data=df_1)\n",
    "plt.title(\"Monthly Salary vs Credit Score\")\n",
    "plt.show()"
   ]
  },
  {
   "cell_type": "markdown",
   "id": "e18bc76c-f035-44bd-9dc6-970509056396",
   "metadata": {},
   "source": [
    "Findings - \n",
    "1. Salary vs Credit Score\n",
    "  * Higher credit scores (Good) are generally associated with higher median and mean salaries.\n",
    "  * Lower credit scores (Poor) align with lower income ranges.\n",
    "2. Spread\n",
    "  * Good credit holders show the widest spread, meaning both very high and moderate salaries exist in this group.\n",
    "  * Poor credit group is more compressed, reflecting limited earning capacity.\n",
    "3. Outliers\n",
    "  * All groups have high salary outliers (~₹15,000), but Good score group has more high-end outliers, indicating top earners are often financially          responsible."
   ]
  },
  {
   "cell_type": "markdown",
   "id": "4fd72b69-2be3-4e1c-ad7b-218df9984b48",
   "metadata": {},
   "source": [
    "Negative Findings :-\n",
    "1. Poor credit group has both the lowest median and mean salaries, showing financial vulnerability.\n",
    "2. Income inequality is visible even within the \"Good\" group (wide spread).\n",
    "3. The majority (Standard) group still has modest earnings, suggesting limited upward mobility.\n",
    "\n",
    "Positive Findings :-\n",
    "1. Strong positive correlation between credit score and income levels: higher credit score holders tend to earn more.\n",
    "2. Existence of high outliers across all groups suggests potential upward growth opportunities, even for Poor and Standard groups."
   ]
  },
  {
   "cell_type": "code",
   "execution_count": null,
   "id": "733b87d6-b9b7-44d5-9fdc-6d97051f93c4",
   "metadata": {},
   "outputs": [],
   "source": []
  },
  {
   "cell_type": "markdown",
   "id": "e7a6232d-78f1-4048-a7b6-691b89987d66",
   "metadata": {},
   "source": [
    "# Visualization by Univariate Analysis of Number of Bank Acco. Column"
   ]
  },
  {
   "cell_type": "code",
   "execution_count": 84,
   "id": "9648715f-4ab4-4ec5-9c3f-662a717a123f",
   "metadata": {},
   "outputs": [
    {
     "data": {
      "text/plain": [
       "12"
      ]
     },
     "execution_count": 84,
     "metadata": {},
     "output_type": "execute_result"
    }
   ],
   "source": [
    "df_1.Num_Bank_Accounts.nunique()"
   ]
  },
  {
   "cell_type": "code",
   "execution_count": 85,
   "id": "08ae4239-74df-447c-a021-2fb48d391d68",
   "metadata": {},
   "outputs": [
    {
     "data": {
      "text/html": [
       "<div>\n",
       "<style scoped>\n",
       "    .dataframe tbody tr th:only-of-type {\n",
       "        vertical-align: middle;\n",
       "    }\n",
       "\n",
       "    .dataframe tbody tr th {\n",
       "        vertical-align: top;\n",
       "    }\n",
       "\n",
       "    .dataframe thead th {\n",
       "        text-align: right;\n",
       "    }\n",
       "</style>\n",
       "<table border=\"1\" class=\"dataframe\">\n",
       "  <thead>\n",
       "    <tr style=\"text-align: right;\">\n",
       "      <th></th>\n",
       "      <th>Num_Bank_Accounts</th>\n",
       "      <th>count</th>\n",
       "    </tr>\n",
       "  </thead>\n",
       "  <tbody>\n",
       "    <tr>\n",
       "      <th>0</th>\n",
       "      <td>6</td>\n",
       "      <td>13175</td>\n",
       "    </tr>\n",
       "    <tr>\n",
       "      <th>1</th>\n",
       "      <td>7</td>\n",
       "      <td>12999</td>\n",
       "    </tr>\n",
       "    <tr>\n",
       "      <th>2</th>\n",
       "      <td>8</td>\n",
       "      <td>12940</td>\n",
       "    </tr>\n",
       "    <tr>\n",
       "      <th>3</th>\n",
       "      <td>4</td>\n",
       "      <td>12343</td>\n",
       "    </tr>\n",
       "    <tr>\n",
       "      <th>4</th>\n",
       "      <td>5</td>\n",
       "      <td>12298</td>\n",
       "    </tr>\n",
       "    <tr>\n",
       "      <th>5</th>\n",
       "      <td>3</td>\n",
       "      <td>12107</td>\n",
       "    </tr>\n",
       "    <tr>\n",
       "      <th>6</th>\n",
       "      <td>9</td>\n",
       "      <td>5503</td>\n",
       "    </tr>\n",
       "    <tr>\n",
       "      <th>7</th>\n",
       "      <td>10</td>\n",
       "      <td>5329</td>\n",
       "    </tr>\n",
       "    <tr>\n",
       "      <th>8</th>\n",
       "      <td>1</td>\n",
       "      <td>4540</td>\n",
       "    </tr>\n",
       "    <tr>\n",
       "      <th>9</th>\n",
       "      <td>0</td>\n",
       "      <td>4417</td>\n",
       "    </tr>\n",
       "    <tr>\n",
       "      <th>10</th>\n",
       "      <td>2</td>\n",
       "      <td>4340</td>\n",
       "    </tr>\n",
       "    <tr>\n",
       "      <th>11</th>\n",
       "      <td>11</td>\n",
       "      <td>9</td>\n",
       "    </tr>\n",
       "  </tbody>\n",
       "</table>\n",
       "</div>"
      ],
      "text/plain": [
       "    Num_Bank_Accounts  count\n",
       "0                   6  13175\n",
       "1                   7  12999\n",
       "2                   8  12940\n",
       "3                   4  12343\n",
       "4                   5  12298\n",
       "5                   3  12107\n",
       "6                   9   5503\n",
       "7                  10   5329\n",
       "8                   1   4540\n",
       "9                   0   4417\n",
       "10                  2   4340\n",
       "11                 11      9"
      ]
     },
     "execution_count": 85,
     "metadata": {},
     "output_type": "execute_result"
    }
   ],
   "source": [
    "total_number_of_accounts = pd.DataFrame(df_1.Num_Bank_Accounts.value_counts()).reset_index(0)\n",
    "total_number_of_accounts                                                                                "
   ]
  },
  {
   "cell_type": "markdown",
   "id": "7f4a69ee-c5da-42a6-bea4-d90e73aa6b57",
   "metadata": {},
   "source": []
  },
  {
   "cell_type": "code",
   "execution_count": 87,
   "id": "900bc03d-b6c8-484b-9678-59dbd698bfb0",
   "metadata": {},
   "outputs": [
    {
     "data": {
      "image/png": "[encoded data removed]",
      "text/plain": [
       "<Figure size 640x480 with 1 Axes>"
      ]
     },
     "metadata": {},
     "output_type": "display_data"
    }
   ],
   "source": [
    "sns.barplot(y='count', x='Num_Bank_Accounts', data=total_number_of_accounts, hue='Num_Bank_Accounts', palette='viridis',legend=False)\n",
    "plt.title('Count of Total customers with count of bank accounts')\n",
    "plt.show()"
   ]
  },
  {
   "cell_type": "markdown",
   "id": "bbd72a41-8598-4b88-b2b9-1dacff43f180",
   "metadata": {},
   "source": [
    "Findings :-\n",
    "1. Most common range:\n",
    "   * Customers typically have 3 to 8 bank accounts, peaking at 6 accounts.\n",
    "   * This shows that having multiple accounts is the norm rather than an exception.\n",
    "2. Low account holders (0–2 accounts):\n",
    "   * Relatively few people keep only 1 or 2 accounts.\n",
    "   * Suggests customers prefer maintaining multiple accounts for savings, credit, or investments.\n",
    "3. High account holders (9–11 accounts):\n",
    "   * The count drops sharply after 8 accounts.\n",
    "   * Extreme case: Only 9 customers have 11 accounts, likely businesses or high-net-worth individuals."
   ]
  },
  {
   "cell_type": "markdown",
   "id": "d4969ebf-e7ba-4d62-9a3f-73e754fa3df4",
   "metadata": {},
   "source": [
    "Negative Findings :-\n",
    "1. Very few customers with 0–2 accounts → could indicate low financial penetration in some segments.\n",
    "2. A sudden drop after 8 accounts → maintaining too many accounts may not be practical for most customers.\n",
    "\n",
    "Positive Findings :-\n",
    "1. Majority of customers actively use multiple accounts (3–8), showing high banking engagement.\n",
    "2. The peak at 6 accounts suggests a sweet spot for customer banking behavior.\n",
    "3. Presence of 9–11 accounts, though rare, shows potential for premium banking services for niche segments."
   ]
  },
  {
   "cell_type": "code",
   "execution_count": null,
   "id": "3282b004-e6c3-41fe-918f-296968d360be",
   "metadata": {},
   "outputs": [],
   "source": []
  },
  {
   "cell_type": "markdown",
   "id": "8ddb936c-d395-48e6-a01e-efdb7a53f9b3",
   "metadata": {},
   "source": [
    "# Visualization by Univariate Analysis of No. of Credit Cards Column"
   ]
  },
  {
   "cell_type": "code",
   "execution_count": 91,
   "id": "6c777d6a-37c8-4f01-a875-b0eb34f1f069",
   "metadata": {},
   "outputs": [
    {
     "data": {
      "text/plain": [
       "12"
      ]
     },
     "execution_count": 91,
     "metadata": {},
     "output_type": "execute_result"
    }
   ],
   "source": [
    "df_1.Num_Credit_Card.nunique()"
   ]
  },
  {
   "cell_type": "code",
   "execution_count": 92,
   "id": "8e4bf089-305a-4453-8a3d-5a9a7b0751e9",
   "metadata": {},
   "outputs": [
    {
     "data": {
      "text/html": [
       "<div>\n",
       "<style scoped>\n",
       "    .dataframe tbody tr th:only-of-type {\n",
       "        vertical-align: middle;\n",
       "    }\n",
       "\n",
       "    .dataframe tbody tr th {\n",
       "        vertical-align: top;\n",
       "    }\n",
       "\n",
       "    .dataframe thead th {\n",
       "        text-align: right;\n",
       "    }\n",
       "</style>\n",
       "<table border=\"1\" class=\"dataframe\">\n",
       "  <thead>\n",
       "    <tr style=\"text-align: right;\">\n",
       "      <th></th>\n",
       "      <th>Num_Credit_Card</th>\n",
       "      <th>count</th>\n",
       "    </tr>\n",
       "  </thead>\n",
       "  <tbody>\n",
       "    <tr>\n",
       "      <th>0</th>\n",
       "      <td>5</td>\n",
       "      <td>18903</td>\n",
       "    </tr>\n",
       "    <tr>\n",
       "      <th>1</th>\n",
       "      <td>7</td>\n",
       "      <td>17024</td>\n",
       "    </tr>\n",
       "    <tr>\n",
       "      <th>2</th>\n",
       "      <td>6</td>\n",
       "      <td>16932</td>\n",
       "    </tr>\n",
       "    <tr>\n",
       "      <th>3</th>\n",
       "      <td>4</td>\n",
       "      <td>14362</td>\n",
       "    </tr>\n",
       "    <tr>\n",
       "      <th>4</th>\n",
       "      <td>3</td>\n",
       "      <td>13560</td>\n",
       "    </tr>\n",
       "    <tr>\n",
       "      <th>5</th>\n",
       "      <td>8</td>\n",
       "      <td>5073</td>\n",
       "    </tr>\n",
       "    <tr>\n",
       "      <th>6</th>\n",
       "      <td>10</td>\n",
       "      <td>4962</td>\n",
       "    </tr>\n",
       "    <tr>\n",
       "      <th>7</th>\n",
       "      <td>9</td>\n",
       "      <td>4753</td>\n",
       "    </tr>\n",
       "    <tr>\n",
       "      <th>8</th>\n",
       "      <td>2</td>\n",
       "      <td>2196</td>\n",
       "    </tr>\n",
       "    <tr>\n",
       "      <th>9</th>\n",
       "      <td>1</td>\n",
       "      <td>2185</td>\n",
       "    </tr>\n",
       "    <tr>\n",
       "      <th>10</th>\n",
       "      <td>11</td>\n",
       "      <td>36</td>\n",
       "    </tr>\n",
       "    <tr>\n",
       "      <th>11</th>\n",
       "      <td>0</td>\n",
       "      <td>14</td>\n",
       "    </tr>\n",
       "  </tbody>\n",
       "</table>\n",
       "</div>"
      ],
      "text/plain": [
       "    Num_Credit_Card  count\n",
       "0                 5  18903\n",
       "1                 7  17024\n",
       "2                 6  16932\n",
       "3                 4  14362\n",
       "4                 3  13560\n",
       "5                 8   5073\n",
       "6                10   4962\n",
       "7                 9   4753\n",
       "8                 2   2196\n",
       "9                 1   2185\n",
       "10               11     36\n",
       "11                0     14"
      ]
     },
     "execution_count": 92,
     "metadata": {},
     "output_type": "execute_result"
    }
   ],
   "source": [
    "Credit_cards = pd.DataFrame(df_1.Num_Credit_Card.value_counts()).reset_index(0)\n",
    "Credit_cards"
   ]
  },
  {
   "cell_type": "markdown",
   "id": "392231e3-b37b-46cd-9fa1-fbbbea19301b",
   "metadata": {},
   "source": [
    "* A barplot clearly shows the distribution of customers across discrete credit card counts.\n",
    "* It highlights the peak (5 cards) and the sharp decline after 7 cards.\n",
    "* Easier to interpret than a boxplot here because the focus is on frequency rather than distribution spread."
   ]
  },
  {
   "cell_type": "code",
   "execution_count": 94,
   "id": "22472a56-0848-4c1b-b0a7-e6a9909726fa",
   "metadata": {},
   "outputs": [
    {
     "data": {
      "image/png": "[encoded data removed]",
      "text/plain": [
       "<Figure size 640x480 with 1 Axes>"
      ]
     },
     "metadata": {},
     "output_type": "display_data"
    }
   ],
   "source": [
    "sns.barplot(x='Num_Credit_Card',y='count', data=Credit_cards, hue='Num_Credit_Card', palette='icefire',legend=False)\n",
    "plt.title('Number of Credit Cards', fontsize=20)\n",
    "plt.xlabel('Number of Credit Cards')\n",
    "plt.show()"
   ]
  },
  {
   "cell_type": "markdown",
   "id": "2b835ac5-8ee4-4cbb-9a71-2773be455a19",
   "metadata": {},
   "source": [
    "Findings -\n",
    "1. Most common range → Customers typically hold 3 to 7 credit cards, with 5 being the most common.\n",
    "2. Low card users → Very few people rely on only 1–2 cards, suggesting most prefer multiple cards for rewards, credit limits, or diversification.\n",
    "3. High card users → After 7 cards, the numbers fall steeply, showing that very high credit card usage is rare and likely limited to business or premium customers."
   ]
  },
  {
   "cell_type": "markdown",
   "id": "73af7036-0414-4e65-a25d-3946960883c4",
   "metadata": {},
   "source": [
    "Negative Findings :-\n",
    "1. Having too many cards (8+) is rare and may indicate credit risk or over-leveraging.\n",
    "2. Very few customers with only 1–2 cards may suggest low financial inclusion in some segments.\n",
    "\n",
    "Positive Findings :-\n",
    "1. Majority of customers actively use multiple credit cards (3–7) → indicates strong credit engagement.\n",
    "2. The peak at 5 cards may suggest this is the optimal number for benefits and manageability.\n",
    "3. Existence of 8–10 card holders indicates potential for premium financial products targeting heavy users."
   ]
  },
  {
   "cell_type": "code",
   "execution_count": 97,
   "id": "7005ff06-1d38-476e-8305-c0be6d2547f5",
   "metadata": {},
   "outputs": [
    {
     "name": "stdout",
     "output_type": "stream",
     "text": [
      "<class 'pandas.core.frame.DataFrame'>\n",
      "RangeIndex: 100000 entries, 0 to 99999\n",
      "Data columns (total 28 columns):\n",
      " #   Column                    Non-Null Count   Dtype  \n",
      "---  ------                    --------------   -----  \n",
      " 0   ID                        100000 non-null  int64  \n",
      " 1   Customer_ID               100000 non-null  int64  \n",
      " 2   Month                     100000 non-null  int64  \n",
      " 3   Name                      100000 non-null  object \n",
      " 4   Age                       100000 non-null  int32  \n",
      " 5   SSN                       100000 non-null  int32  \n",
      " 6   Occupation                100000 non-null  object \n",
      " 7   Annual_Income             100000 non-null  float64\n",
      " 8   Monthly_Inhand_Salary     100000 non-null  float64\n",
      " 9   Num_Bank_Accounts         100000 non-null  int32  \n",
      " 10  Num_Credit_Card           100000 non-null  int32  \n",
      " 11  Interest_Rate             100000 non-null  float64\n",
      " 12  Num_of_Loan               100000 non-null  float64\n",
      " 13  Type_of_Loan              100000 non-null  object \n",
      " 14  Delay_from_due_date       100000 non-null  float64\n",
      " 15  Num_of_Delayed_Payment    100000 non-null  float64\n",
      " 16  Changed_Credit_Limit      100000 non-null  float64\n",
      " 17  Num_Credit_Inquiries      100000 non-null  float64\n",
      " 18  Credit_Mix                100000 non-null  object \n",
      " 19  Outstanding_Debt          100000 non-null  float64\n",
      " 20  Credit_Utilization_Ratio  100000 non-null  float64\n",
      " 21  Credit_History_Age        100000 non-null  int32  \n",
      " 22  Payment_of_Min_Amount     100000 non-null  object \n",
      " 23  Total_EMI_per_month       100000 non-null  float64\n",
      " 24  Amount_invested_monthly   100000 non-null  float64\n",
      " 25  Payment_Behaviour         100000 non-null  object \n",
      " 26  Monthly_Balance           100000 non-null  float64\n",
      " 27  Credit_Score              100000 non-null  object \n",
      "dtypes: float64(13), int32(5), int64(3), object(7)\n",
      "memory usage: 19.5+ MB\n"
     ]
    }
   ],
   "source": [
    "df_1.info()"
   ]
  },
  {
   "cell_type": "code",
   "execution_count": null,
   "id": "c14a7801-1fc0-4e19-91a6-f020d23d12ce",
   "metadata": {},
   "outputs": [],
   "source": []
  },
  {
   "cell_type": "markdown",
   "id": "8caadac8-c93e-41a4-8709-f42faa4fda92",
   "metadata": {},
   "source": [
    "# Visualization by Interest Rate Column"
   ]
  },
  {
   "cell_type": "code",
   "execution_count": 99,
   "id": "e6ca8a38-8c9a-4aad-8cc2-931a1da55732",
   "metadata": {},
   "outputs": [
    {
     "data": {
      "text/plain": [
       "34"
      ]
     },
     "execution_count": 99,
     "metadata": {},
     "output_type": "execute_result"
    }
   ],
   "source": [
    "df_1.Interest_Rate.nunique()"
   ]
  },
  {
   "cell_type": "code",
   "execution_count": 100,
   "id": "142f8f6c-9a5b-4229-928b-e747f0d90257",
   "metadata": {},
   "outputs": [
    {
     "data": {
      "text/html": [
       "<div>\n",
       "<style scoped>\n",
       "    .dataframe tbody tr th:only-of-type {\n",
       "        vertical-align: middle;\n",
       "    }\n",
       "\n",
       "    .dataframe tbody tr th {\n",
       "        vertical-align: top;\n",
       "    }\n",
       "\n",
       "    .dataframe thead th {\n",
       "        text-align: right;\n",
       "    }\n",
       "</style>\n",
       "<table border=\"1\" class=\"dataframe\">\n",
       "  <thead>\n",
       "    <tr style=\"text-align: right;\">\n",
       "      <th></th>\n",
       "      <th>Interest_Rate</th>\n",
       "      <th>count</th>\n",
       "    </tr>\n",
       "  </thead>\n",
       "  <tbody>\n",
       "    <tr>\n",
       "      <th>0</th>\n",
       "      <td>8.0</td>\n",
       "      <td>5104</td>\n",
       "    </tr>\n",
       "    <tr>\n",
       "      <th>1</th>\n",
       "      <td>5.0</td>\n",
       "      <td>5096</td>\n",
       "    </tr>\n",
       "    <tr>\n",
       "      <th>2</th>\n",
       "      <td>6.0</td>\n",
       "      <td>4832</td>\n",
       "    </tr>\n",
       "    <tr>\n",
       "      <th>3</th>\n",
       "      <td>12.0</td>\n",
       "      <td>4648</td>\n",
       "    </tr>\n",
       "    <tr>\n",
       "      <th>4</th>\n",
       "      <td>10.0</td>\n",
       "      <td>4616</td>\n",
       "    </tr>\n",
       "    <tr>\n",
       "      <th>5</th>\n",
       "      <td>7.0</td>\n",
       "      <td>4584</td>\n",
       "    </tr>\n",
       "    <tr>\n",
       "      <th>6</th>\n",
       "      <td>9.0</td>\n",
       "      <td>4576</td>\n",
       "    </tr>\n",
       "    <tr>\n",
       "      <th>7</th>\n",
       "      <td>11.0</td>\n",
       "      <td>4512</td>\n",
       "    </tr>\n",
       "    <tr>\n",
       "      <th>8</th>\n",
       "      <td>18.0</td>\n",
       "      <td>4192</td>\n",
       "    </tr>\n",
       "    <tr>\n",
       "      <th>9</th>\n",
       "      <td>15.0</td>\n",
       "      <td>4072</td>\n",
       "    </tr>\n",
       "    <tr>\n",
       "      <th>10</th>\n",
       "      <td>20.0</td>\n",
       "      <td>4008</td>\n",
       "    </tr>\n",
       "    <tr>\n",
       "      <th>11</th>\n",
       "      <td>17.0</td>\n",
       "      <td>3888</td>\n",
       "    </tr>\n",
       "    <tr>\n",
       "      <th>12</th>\n",
       "      <td>16.0</td>\n",
       "      <td>3800</td>\n",
       "    </tr>\n",
       "    <tr>\n",
       "      <th>13</th>\n",
       "      <td>19.0</td>\n",
       "      <td>3704</td>\n",
       "    </tr>\n",
       "    <tr>\n",
       "      <th>14</th>\n",
       "      <td>3.0</td>\n",
       "      <td>2824</td>\n",
       "    </tr>\n",
       "    <tr>\n",
       "      <th>15</th>\n",
       "      <td>1.0</td>\n",
       "      <td>2744</td>\n",
       "    </tr>\n",
       "    <tr>\n",
       "      <th>16</th>\n",
       "      <td>4.0</td>\n",
       "      <td>2640</td>\n",
       "    </tr>\n",
       "    <tr>\n",
       "      <th>17</th>\n",
       "      <td>2.0</td>\n",
       "      <td>2520</td>\n",
       "    </tr>\n",
       "    <tr>\n",
       "      <th>18</th>\n",
       "      <td>13.0</td>\n",
       "      <td>2432</td>\n",
       "    </tr>\n",
       "    <tr>\n",
       "      <th>19</th>\n",
       "      <td>14.0</td>\n",
       "      <td>2272</td>\n",
       "    </tr>\n",
       "    <tr>\n",
       "      <th>20</th>\n",
       "      <td>32.0</td>\n",
       "      <td>1776</td>\n",
       "    </tr>\n",
       "    <tr>\n",
       "      <th>21</th>\n",
       "      <td>22.0</td>\n",
       "      <td>1752</td>\n",
       "    </tr>\n",
       "    <tr>\n",
       "      <th>22</th>\n",
       "      <td>24.0</td>\n",
       "      <td>1736</td>\n",
       "    </tr>\n",
       "    <tr>\n",
       "      <th>23</th>\n",
       "      <td>30.0</td>\n",
       "      <td>1728</td>\n",
       "    </tr>\n",
       "    <tr>\n",
       "      <th>24</th>\n",
       "      <td>23.0</td>\n",
       "      <td>1720</td>\n",
       "    </tr>\n",
       "    <tr>\n",
       "      <th>25</th>\n",
       "      <td>29.0</td>\n",
       "      <td>1696</td>\n",
       "    </tr>\n",
       "    <tr>\n",
       "      <th>26</th>\n",
       "      <td>28.0</td>\n",
       "      <td>1648</td>\n",
       "    </tr>\n",
       "    <tr>\n",
       "      <th>27</th>\n",
       "      <td>27.0</td>\n",
       "      <td>1640</td>\n",
       "    </tr>\n",
       "    <tr>\n",
       "      <th>28</th>\n",
       "      <td>25.0</td>\n",
       "      <td>1608</td>\n",
       "    </tr>\n",
       "    <tr>\n",
       "      <th>29</th>\n",
       "      <td>21.0</td>\n",
       "      <td>1592</td>\n",
       "    </tr>\n",
       "    <tr>\n",
       "      <th>30</th>\n",
       "      <td>34.0</td>\n",
       "      <td>1528</td>\n",
       "    </tr>\n",
       "    <tr>\n",
       "      <th>31</th>\n",
       "      <td>26.0</td>\n",
       "      <td>1528</td>\n",
       "    </tr>\n",
       "    <tr>\n",
       "      <th>32</th>\n",
       "      <td>33.0</td>\n",
       "      <td>1496</td>\n",
       "    </tr>\n",
       "    <tr>\n",
       "      <th>33</th>\n",
       "      <td>31.0</td>\n",
       "      <td>1488</td>\n",
       "    </tr>\n",
       "  </tbody>\n",
       "</table>\n",
       "</div>"
      ],
      "text/plain": [
       "    Interest_Rate  count\n",
       "0             8.0   5104\n",
       "1             5.0   5096\n",
       "2             6.0   4832\n",
       "3            12.0   4648\n",
       "4            10.0   4616\n",
       "5             7.0   4584\n",
       "6             9.0   4576\n",
       "7            11.0   4512\n",
       "8            18.0   4192\n",
       "9            15.0   4072\n",
       "10           20.0   4008\n",
       "11           17.0   3888\n",
       "12           16.0   3800\n",
       "13           19.0   3704\n",
       "14            3.0   2824\n",
       "15            1.0   2744\n",
       "16            4.0   2640\n",
       "17            2.0   2520\n",
       "18           13.0   2432\n",
       "19           14.0   2272\n",
       "20           32.0   1776\n",
       "21           22.0   1752\n",
       "22           24.0   1736\n",
       "23           30.0   1728\n",
       "24           23.0   1720\n",
       "25           29.0   1696\n",
       "26           28.0   1648\n",
       "27           27.0   1640\n",
       "28           25.0   1608\n",
       "29           21.0   1592\n",
       "30           34.0   1528\n",
       "31           26.0   1528\n",
       "32           33.0   1496\n",
       "33           31.0   1488"
      ]
     },
     "execution_count": 100,
     "metadata": {},
     "output_type": "execute_result"
    }
   ],
   "source": [
    "interest_rate = pd.DataFrame(df_1.Interest_Rate.value_counts()).reset_index(0)\n",
    "interest_rate"
   ]
  },
  {
   "cell_type": "code",
   "execution_count": null,
   "id": "c5e151b4-3f7f-4f7f-9a56-c5851388e5a3",
   "metadata": {},
   "outputs": [],
   "source": []
  },
  {
   "cell_type": "markdown",
   "id": "b29ec387-5202-45e9-af12-9e37c242a6dd",
   "metadata": {},
   "source": [
    "# Bivariate Analysis of Credit Score and Interest Rate Column"
   ]
  },
  {
   "cell_type": "markdown",
   "id": "3787544d-5cc0-4894-aeb5-14a38e3e5030",
   "metadata": {},
   "source": [
    "Boxplot is best for showing distribution and spread of interest rates across credit score categories.\n",
    "It helps identify:\n",
    "* Median (typical value)\n",
    "* Spread (risk/variability)\n",
    "* Outliers (exceptions)\n",
    "Compared to bar/line charts, a boxplot gives deeper insight into variation rather than just averages."
   ]
  },
  {
   "cell_type": "code",
   "execution_count": 103,
   "id": "d31b170f-c168-45a9-b3db-8355014fbb56",
   "metadata": {},
   "outputs": [
    {
     "data": {
      "image/png": "[encoded data removed]",
      "text/plain": [
       "<Figure size 640x480 with 1 Axes>"
      ]
     },
     "metadata": {},
     "output_type": "display_data"
    }
   ],
   "source": [
    "sns.boxplot(x='Credit_Score', y='Interest_Rate', data=df_1,palette='viridis')\n",
    "plt.title('Credit Score vs Interest Rate')\n",
    "plt.show()"
   ]
  },
  {
   "cell_type": "markdown",
   "id": "34269c8b-8f06-4b28-9962-fbf83bd0226e",
   "metadata": {},
   "source": [
    "Findings -\n",
    "1. Good Credit Score\n",
    "   * Median interest rate is the lowest (around 6–7%).\n",
    "   * Most values are concentrated between 4%–11%.\n",
    "   * Few extreme outliers with higher rates (above 20%).\n",
    "2. Standard Credit Score\n",
    "   * Median interest rate is higher than \"Good\" (~13%).\n",
    "   * Wider spread of data (more variability).\n",
    "   * Some extreme outliers close to 33%.\n",
    "3. Poor Credit Score\n",
    "   * Median interest rate is the highest (~21%).\n",
    "   * Interquartile range is wide (15%–27%).\n",
    "   * Overall trend: lower the credit score → higher the interest rate."
   ]
  },
  {
   "cell_type": "markdown",
   "id": "fb917f09-7c05-4086-a6e5-450e10cffad4",
   "metadata": {},
   "source": [
    "Positive Findings :-\n",
    "* Customers with Good credit scores enjoy the lowest interest rates, showing a strong and fair risk-based lending strategy.\n",
    "* A clear upward trend exists: as credit score quality decreases (Good → Standard → Poor), the interest rate increases, which validates financial logic.\n",
    "* The chart provides actionable insights for lenders to strengthen credit policies and encourage borrowers to improve their credit scores.\n",
    "\n",
    "Negative Findings :-\n",
    "* A large number of outliers exist in the “Good” credit score group, where some customers with good credit are charged unusually high interest rates.\n",
    "* This inconsistency can lead to customer dissatisfaction and reduce trust in the lending process.\n",
    "* The wide spread of rates in the Standard and Poor groups shows high variability, which may signal lack of consistent interest rate policies."
   ]
  },
  {
   "cell_type": "code",
   "execution_count": null,
   "id": "d06571c7-2dc9-4801-bd7e-395e40a4be03",
   "metadata": {},
   "outputs": [],
   "source": []
  },
  {
   "cell_type": "markdown",
   "id": "8b746216-e3ce-451c-856c-039c67531c1a",
   "metadata": {},
   "source": [
    "# Bivariate Analysis by No of Loans and Credit Score Column"
   ]
  },
  {
   "cell_type": "code",
   "execution_count": 107,
   "id": "af21b6b0-8bf4-439a-94ca-ae6beda6c806",
   "metadata": {},
   "outputs": [
    {
     "data": {
      "text/html": [
       "<div>\n",
       "<style scoped>\n",
       "    .dataframe tbody tr th:only-of-type {\n",
       "        vertical-align: middle;\n",
       "    }\n",
       "\n",
       "    .dataframe tbody tr th {\n",
       "        vertical-align: top;\n",
       "    }\n",
       "\n",
       "    .dataframe thead th {\n",
       "        text-align: right;\n",
       "    }\n",
       "</style>\n",
       "<table border=\"1\" class=\"dataframe\">\n",
       "  <thead>\n",
       "    <tr style=\"text-align: right;\">\n",
       "      <th></th>\n",
       "      <th>Num_of_Loan</th>\n",
       "      <th>count</th>\n",
       "    </tr>\n",
       "  </thead>\n",
       "  <tbody>\n",
       "    <tr>\n",
       "      <th>0</th>\n",
       "      <td>3.0</td>\n",
       "      <td>15752</td>\n",
       "    </tr>\n",
       "    <tr>\n",
       "      <th>1</th>\n",
       "      <td>2.0</td>\n",
       "      <td>15712</td>\n",
       "    </tr>\n",
       "    <tr>\n",
       "      <th>2</th>\n",
       "      <td>4.0</td>\n",
       "      <td>15456</td>\n",
       "    </tr>\n",
       "    <tr>\n",
       "      <th>3</th>\n",
       "      <td>0.0</td>\n",
       "      <td>11408</td>\n",
       "    </tr>\n",
       "    <tr>\n",
       "      <th>4</th>\n",
       "      <td>1.0</td>\n",
       "      <td>11128</td>\n",
       "    </tr>\n",
       "    <tr>\n",
       "      <th>5</th>\n",
       "      <td>6.0</td>\n",
       "      <td>8144</td>\n",
       "    </tr>\n",
       "    <tr>\n",
       "      <th>6</th>\n",
       "      <td>7.0</td>\n",
       "      <td>7680</td>\n",
       "    </tr>\n",
       "    <tr>\n",
       "      <th>7</th>\n",
       "      <td>5.0</td>\n",
       "      <td>7528</td>\n",
       "    </tr>\n",
       "    <tr>\n",
       "      <th>8</th>\n",
       "      <td>9.0</td>\n",
       "      <td>3856</td>\n",
       "    </tr>\n",
       "    <tr>\n",
       "      <th>9</th>\n",
       "      <td>8.0</td>\n",
       "      <td>3336</td>\n",
       "    </tr>\n",
       "  </tbody>\n",
       "</table>\n",
       "</div>"
      ],
      "text/plain": [
       "   Num_of_Loan  count\n",
       "0          3.0  15752\n",
       "1          2.0  15712\n",
       "2          4.0  15456\n",
       "3          0.0  11408\n",
       "4          1.0  11128\n",
       "5          6.0   8144\n",
       "6          7.0   7680\n",
       "7          5.0   7528\n",
       "8          9.0   3856\n",
       "9          8.0   3336"
      ]
     },
     "execution_count": 107,
     "metadata": {},
     "output_type": "execute_result"
    }
   ],
   "source": [
    "loans_number = pd.DataFrame(df_1.Num_of_Loan.value_counts()).reset_index(0)\n",
    "loans_number"
   ]
  },
  {
   "cell_type": "markdown",
   "id": "54c7fe4e-5a5a-43cf-8ea1-6c7eccfdd16e",
   "metadata": {},
   "source": [
    "* A boxplot effectively shows the distribution and spread of loans across credit score groups.\n",
    "* It highlights medians, variability, and outliers, which a bar/line chart wouldn’t capture as clearly.\n",
    "* Ideal for financial risk analysis since it identifies debt concentration patterns."
   ]
  },
  {
   "cell_type": "code",
   "execution_count": 109,
   "id": "19007899-1aa0-4ca9-8699-a335501a8361",
   "metadata": {},
   "outputs": [
    {
     "data": {
      "image/png": "[encoded data removed]",
      "text/plain": [
       "<Figure size 640x480 with 1 Axes>"
      ]
     },
     "metadata": {},
     "output_type": "display_data"
    }
   ],
   "source": [
    "sns.boxplot(x='Credit_Score', y='Num_of_Loan',data=df_1,palette='icefire')\n",
    "plt.title('Number of Loans vs Credit Score')\n",
    "plt.show()"
   ]
  },
  {
   "cell_type": "markdown",
   "id": "7743660e-7001-4d86-90a6-a03a9abe7bea",
   "metadata": {},
   "source": [
    "Findings -\n",
    "1. Good Credit Score\n",
    "   * Median number of loans is low (~2).\n",
    "   * Most customers with good credit take fewer loans.\n",
    "   * A few outliers show some individuals with many loans (7–8+).\n",
    "2. Standard Credit Score\n",
    "   * Median number of loans is slightly higher (~3).\n",
    "   * Distribution is wider compared to “Good”.\n",
    "   * Some customers have as many as 9 loans.\n",
    "3. Poor Credit Score\n",
    "   * Median number of loans is the highest (~5).\n",
    "   * Customers with poor credit tend to hold more loans, which may indicate financial stress and higher debt burden.\n",
    "\n",
    "✅ Positive Findings :-\n",
    "* Clear trend: Higher number of loans is associated with lower credit scores, which supports the idea that over-borrowing negatively impacts               creditworthiness.\n",
    "* The chart helps banks identify risk patterns: borrowers with poor scores often juggle multiple loans.\n",
    "* Useful for credit risk teams to set stricter rules for high-loan customers.\n",
    "\n",
    "❌ Negative Findings :-\n",
    "* Outliers exist in the “Good” credit group, where some customers with good credit still manage multiple loans (7–8), raising questions on policy          consistency.\n",
    "* The wide variability in the Standard and Poor categories suggests lack of strict loan regulation.\n",
    "* Customers with poor scores still getting multiple loans may increase default risk and bad debt growth for lenders."
   ]
  },
  {
   "cell_type": "code",
   "execution_count": null,
   "id": "572efa0b-f034-4af9-a8f1-93f517ccc2d8",
   "metadata": {},
   "outputs": [],
   "source": []
  },
  {
   "cell_type": "markdown",
   "id": "f2c0a069-ea50-4c29-8c14-1c2b498524c6",
   "metadata": {},
   "source": [
    "# Univariate Analysis by Type of Loan Column"
   ]
  },
  {
   "cell_type": "code",
   "execution_count": 112,
   "id": "71bdab1a-5f9b-46e3-95f2-82ad34b151c2",
   "metadata": {},
   "outputs": [
    {
     "data": {
      "text/html": [
       "<div>\n",
       "<style scoped>\n",
       "    .dataframe tbody tr th:only-of-type {\n",
       "        vertical-align: middle;\n",
       "    }\n",
       "\n",
       "    .dataframe tbody tr th {\n",
       "        vertical-align: top;\n",
       "    }\n",
       "\n",
       "    .dataframe thead th {\n",
       "        text-align: right;\n",
       "    }\n",
       "</style>\n",
       "<table border=\"1\" class=\"dataframe\">\n",
       "  <thead>\n",
       "    <tr style=\"text-align: right;\">\n",
       "      <th></th>\n",
       "      <th>Type_of_Loan</th>\n",
       "      <th>count</th>\n",
       "    </tr>\n",
       "  </thead>\n",
       "  <tbody>\n",
       "    <tr>\n",
       "      <th>0</th>\n",
       "      <td>No Data</td>\n",
       "      <td>11408</td>\n",
       "    </tr>\n",
       "    <tr>\n",
       "      <th>1</th>\n",
       "      <td>Not Specified</td>\n",
       "      <td>1408</td>\n",
       "    </tr>\n",
       "    <tr>\n",
       "      <th>2</th>\n",
       "      <td>Credit-Builder Loan</td>\n",
       "      <td>1280</td>\n",
       "    </tr>\n",
       "    <tr>\n",
       "      <th>3</th>\n",
       "      <td>Personal Loan</td>\n",
       "      <td>1272</td>\n",
       "    </tr>\n",
       "    <tr>\n",
       "      <th>4</th>\n",
       "      <td>Debt Consolidation Loan</td>\n",
       "      <td>1264</td>\n",
       "    </tr>\n",
       "    <tr>\n",
       "      <th>...</th>\n",
       "      <td>...</td>\n",
       "      <td>...</td>\n",
       "    </tr>\n",
       "    <tr>\n",
       "      <th>6256</th>\n",
       "      <td>Not Specified, Mortgage Loan, Auto Loan, and P...</td>\n",
       "      <td>8</td>\n",
       "    </tr>\n",
       "    <tr>\n",
       "      <th>6257</th>\n",
       "      <td>Payday Loan, Mortgage Loan, Debt Consolidation...</td>\n",
       "      <td>8</td>\n",
       "    </tr>\n",
       "    <tr>\n",
       "      <th>6258</th>\n",
       "      <td>Debt Consolidation Loan, Auto Loan, Personal L...</td>\n",
       "      <td>8</td>\n",
       "    </tr>\n",
       "    <tr>\n",
       "      <th>6259</th>\n",
       "      <td>Student Loan, Auto Loan, Student Loan, Credit-...</td>\n",
       "      <td>8</td>\n",
       "    </tr>\n",
       "    <tr>\n",
       "      <th>6260</th>\n",
       "      <td>Personal Loan, Auto Loan, Mortgage Loan, Stude...</td>\n",
       "      <td>8</td>\n",
       "    </tr>\n",
       "  </tbody>\n",
       "</table>\n",
       "<p>6261 rows × 2 columns</p>\n",
       "</div>"
      ],
      "text/plain": [
       "                                           Type_of_Loan  count\n",
       "0                                               No Data  11408\n",
       "1                                         Not Specified   1408\n",
       "2                                   Credit-Builder Loan   1280\n",
       "3                                         Personal Loan   1272\n",
       "4                               Debt Consolidation Loan   1264\n",
       "...                                                 ...    ...\n",
       "6256  Not Specified, Mortgage Loan, Auto Loan, and P...      8\n",
       "6257  Payday Loan, Mortgage Loan, Debt Consolidation...      8\n",
       "6258  Debt Consolidation Loan, Auto Loan, Personal L...      8\n",
       "6259  Student Loan, Auto Loan, Student Loan, Credit-...      8\n",
       "6260  Personal Loan, Auto Loan, Mortgage Loan, Stude...      8\n",
       "\n",
       "[6261 rows x 2 columns]"
      ]
     },
     "execution_count": 112,
     "metadata": {},
     "output_type": "execute_result"
    }
   ],
   "source": [
    "loan_type = pd.DataFrame(df_1.Type_of_Loan.value_counts()).reset_index(0)\n",
    "loan_type"
   ]
  },
  {
   "cell_type": "code",
   "execution_count": 113,
   "id": "e5075841-dff2-4e39-843d-4aa2beedafbf",
   "metadata": {},
   "outputs": [
    {
     "name": "stdout",
     "output_type": "stream",
     "text": [
      "<class 'pandas.core.frame.DataFrame'>\n",
      "RangeIndex: 100000 entries, 0 to 99999\n",
      "Data columns (total 28 columns):\n",
      " #   Column                    Non-Null Count   Dtype  \n",
      "---  ------                    --------------   -----  \n",
      " 0   ID                        100000 non-null  int64  \n",
      " 1   Customer_ID               100000 non-null  int64  \n",
      " 2   Month                     100000 non-null  int64  \n",
      " 3   Name                      100000 non-null  object \n",
      " 4   Age                       100000 non-null  int32  \n",
      " 5   SSN                       100000 non-null  int32  \n",
      " 6   Occupation                100000 non-null  object \n",
      " 7   Annual_Income             100000 non-null  float64\n",
      " 8   Monthly_Inhand_Salary     100000 non-null  float64\n",
      " 9   Num_Bank_Accounts         100000 non-null  int32  \n",
      " 10  Num_Credit_Card           100000 non-null  int32  \n",
      " 11  Interest_Rate             100000 non-null  float64\n",
      " 12  Num_of_Loan               100000 non-null  float64\n",
      " 13  Type_of_Loan              100000 non-null  object \n",
      " 14  Delay_from_due_date       100000 non-null  float64\n",
      " 15  Num_of_Delayed_Payment    100000 non-null  float64\n",
      " 16  Changed_Credit_Limit      100000 non-null  float64\n",
      " 17  Num_Credit_Inquiries      100000 non-null  float64\n",
      " 18  Credit_Mix                100000 non-null  object \n",
      " 19  Outstanding_Debt          100000 non-null  float64\n",
      " 20  Credit_Utilization_Ratio  100000 non-null  float64\n",
      " 21  Credit_History_Age        100000 non-null  int32  \n",
      " 22  Payment_of_Min_Amount     100000 non-null  object \n",
      " 23  Total_EMI_per_month       100000 non-null  float64\n",
      " 24  Amount_invested_monthly   100000 non-null  float64\n",
      " 25  Payment_Behaviour         100000 non-null  object \n",
      " 26  Monthly_Balance           100000 non-null  float64\n",
      " 27  Credit_Score              100000 non-null  object \n",
      "dtypes: float64(13), int32(5), int64(3), object(7)\n",
      "memory usage: 19.5+ MB\n"
     ]
    }
   ],
   "source": [
    "df_1.info()\n"
   ]
  },
  {
   "cell_type": "code",
   "execution_count": null,
   "id": "1b37eeb3-90a4-442c-ac5c-26cc5bece11e",
   "metadata": {},
   "outputs": [],
   "source": []
  },
  {
   "cell_type": "markdown",
   "id": "a4be490e-7b43-47d3-a3d3-6550c54995ba",
   "metadata": {},
   "source": [
    "# Univariate Analysis by Credit Mix Column"
   ]
  },
  {
   "cell_type": "markdown",
   "id": "3f93db2d-95a4-4e1b-8b2c-5db69b606cf9",
   "metadata": {},
   "source": [
    "* A pie chart is well-suited for showing the proportion of categories in credit mix distribution.\n",
    "* It gives a quick snapshot of customer segmentation and highlights where risk is concentrated.\n",
    "* Compared to bar charts, the pie chart immediately shows the relative size of each group, making it easier to interpret customer distribution patterns."
   ]
  },
  {
   "cell_type": "code",
   "execution_count": 116,
   "id": "05dfb3c1-d119-46d1-88f3-eb4594045359",
   "metadata": {},
   "outputs": [
    {
     "data": {
      "image/png": "[encoded data removed]",
      "text/plain": [
       "<Figure size 640x480 with 1 Axes>"
      ]
     },
     "metadata": {},
     "output_type": "display_data"
    }
   ],
   "source": [
    "df['Credit_Mix'].value_counts().plot.pie(autopct='%0.2f%%')\n",
    "plt.title(\"Credit Mix Distribution\",fontsize=20)\n",
    "plt.ylabel('')\n",
    "plt.show()"
   ]
  },
  {
   "cell_type": "markdown",
   "id": "2c590f1c-621f-4662-aa76-806291e564e6",
   "metadata": {},
   "source": [
    "Findings :\n",
    "* Standard Credit Mix: 45.85% (largest share) – most customers fall into this category.\n",
    "* Good Credit Mix: 30.38% – a significant portion of customers manage their credit mix well.\n",
    "* Bad Credit Mix: 23.77% – nearly one-fourth of customers have poor credit mix management.\n",
    "\n",
    "✅ Positive Findings :-\n",
    "* The majority (76% = Standard + Good) of customers are not in the “Bad” category, which is good for overall lending risk.\n",
    "* A strong base of “Good” credit mix customers (30%) indicates potential for cross-selling and long-term customer retention.\n",
    "* Having a large Standard group suggests scope for financial institutions to guide them toward the “Good” category through awareness and financial literacy programs.\n",
    "\n",
    "❌ Negative Findings :-\n",
    "* A considerable portion (23.77%) still falls under the “Bad” category, signaling higher credit risk.\n",
    "* The largest segment is “Standard” (45.85%), which means many customers are neither fully low-risk nor high-quality credit holders, creating              uncertainty in lending decisions.\n",
    "* This distribution may indicate that credit policies are not strict enough to push more customers into the “Good” mix."
   ]
  },
  {
   "cell_type": "code",
   "execution_count": null,
   "id": "2348a4e8-ad56-4874-98f7-d6ecc48c4e82",
   "metadata": {},
   "outputs": [],
   "source": []
  },
  {
   "cell_type": "markdown",
   "id": "7d161419-cbe3-4809-a0fb-e5b316d0bf16",
   "metadata": {},
   "source": [
    "# Visualization by Bivariate analysis of Credit Score and Outstanding Debt Column"
   ]
  },
  {
   "cell_type": "markdown",
   "id": "41570e77-94db-4011-9ce1-1252dc8f2876",
   "metadata": {},
   "source": [
    "* A boxplot is ideal for showing distribution, spread, and outliers in outstanding debt across credit score groups.\n",
    "* It visually reinforces the inverse relationship between credit score and debt burden.\n",
    "* Compared to bar/line charts, it reveals risk concentration and anomalies more effectively."
   ]
  },
  {
   "cell_type": "code",
   "execution_count": 120,
   "id": "fcfae8b1-f256-437d-af93-f7fd40eefe15",
   "metadata": {},
   "outputs": [
    {
     "data": {
      "text/plain": [
       "Outstanding_Debt\n",
       "1109.03    24\n",
       "1151.70    24\n",
       "1360.45    24\n",
       "460.46     24\n",
       "1058.13    16\n",
       "           ..\n",
       "4230.04     8\n",
       "641.99      8\n",
       "98.61       8\n",
       "2614.48     8\n",
       "502.38      8\n",
       "Name: count, Length: 12203, dtype: int64"
      ]
     },
     "execution_count": 120,
     "metadata": {},
     "output_type": "execute_result"
    }
   ],
   "source": [
    "df_1['Outstanding_Debt'].value_counts()"
   ]
  },
  {
   "cell_type": "code",
   "execution_count": 121,
   "id": "2d023ed3-25a4-4be7-8d52-8ccc363fb5e1",
   "metadata": {},
   "outputs": [
    {
     "data": {
      "image/png": "[encoded data removed]",
      "text/plain": [
       "<Figure size 800x500 with 1 Axes>"
      ]
     },
     "metadata": {},
     "output_type": "display_data"
    }
   ],
   "source": [
    "plt.figure(figsize=(8,5))\n",
    "sns.boxplot(x=\"Credit_Score\", y=\"Outstanding_Debt\", data=df_1,palette='rainbow')\n",
    "plt.title('Credit Score vs Outstanding Debt',fontsize=20)\n",
    "plt.show()"
   ]
  },
  {
   "cell_type": "markdown",
   "id": "2f16eab0-efc3-4a6e-a6f5-52a748201842",
   "metadata": {},
   "source": [
    "Findings -\n",
    "1. Good Credit Score\n",
    "  * Median outstanding debt is lowest (~700–800).\n",
    "  * Most customers keep debt levels low, showing disciplined financial behavior.\n",
    "  * However, many outliers with debt up to 5000 exist, showing that some “good” scorers still accumulate high debt.\n",
    "2. Standard Credit Score\n",
    "  * Median debt is higher (~1000+).\n",
    "  * Wider spread compared to “Good” category.\n",
    "  * Presence of extreme outliers (close to 5000) indicates inconsistency in repayment.\n",
    "3. Poor Credit Score\n",
    "  * Median outstanding debt is the highest (~1900–2000).\n",
    "  * Distribution is very wide, with higher maximum values.\n",
    "  * Indicates strong link: higher debt → poorer credit score.\n",
    "\n",
    "✅ Positive Findings :-\n",
    "* Clear trend: Outstanding debt increases as credit score decreases → validates financial risk assessment.\n",
    "* Customers with good credit typically manage debt at much lower levels.\n",
    "* The chart helps lenders segment customers based on debt risk.\n",
    "\n",
    "❌ Negative Findings :-\n",
    "\n",
    "* Large number of outliers in the “Good” credit group suggests that some high-debt customers are still being rated as good, which may reflect loopholes   in credit scoring models.\n",
    "* High variability in Standard and Poor groups shows inconsistent debt control, creating uncertain lending risk.\n",
    "* Lenders allowing poor scorers to maintain high debt may face increased default risk."
   ]
  },
  {
   "cell_type": "code",
   "execution_count": null,
   "id": "c6784159-0d06-49fa-b3bc-4d797368ad69",
   "metadata": {},
   "outputs": [],
   "source": []
  },
  {
   "cell_type": "markdown",
   "id": "aacc96a5-1e3e-408d-b44f-829254e58c2c",
   "metadata": {},
   "source": [
    "# Visualization by Univariate Analysis of Credit Utilisation Ratio Column"
   ]
  },
  {
   "cell_type": "markdown",
   "id": "a2f56fe5-2272-4784-8f78-82564acf7095",
   "metadata": {},
   "source": [
    "* A histogram with KDE is ideal for showing distribution patterns of a continuous variable like utilization ratio.\n",
    "* It reveals the central tendency, spread, and shape of the data better than bar charts or boxplots.\n",
    "* The KDE curve helps visualize how the values are concentrated, making risk zones (low vs high utilization) clear."
   ]
  },
  {
   "cell_type": "code",
   "execution_count": 125,
   "id": "4b0139c4-8768-4613-89e3-7130b0bba034",
   "metadata": {},
   "outputs": [
    {
     "data": {
      "image/png": "[encoded data removed]",
      "text/plain": [
       "<Figure size 640x480 with 1 Axes>"
      ]
     },
     "metadata": {},
     "output_type": "display_data"
    }
   ],
   "source": [
    "sns.histplot(df['Credit_Utilization_Ratio'], bins=30, kde=True)\n",
    "plt.title(\"Credit Utilization Ratio Distribution\")\n",
    "plt.show()"
   ]
  },
  {
   "cell_type": "markdown",
   "id": "97edad88-f95f-422f-9433-b8f5db53551c",
   "metadata": {},
   "source": [
    "Findings -\n",
    "* The Credit Utilization Ratio mostly lies between 25% and 40%.\n",
    "* The distribution is almost bell-shaped (normal-like) with a peak around 30–35%, showing that most customers fall in this range.\n",
    "* Very few customers have extremely low (<22%) or high (>45%) utilization ratios.\n",
    "\n",
    "✅ Positive Findings :-\n",
    "* The majority of customers keep their utilization ratio within a balanced range (30–35%), which is generally considered manageable.\n",
    "* The normal distribution indicates a healthy spread, avoiding extreme skewness.\n",
    "* This insight can help lenders set benchmarks (e.g., keeping utilization below 35% as a good practice).\n",
    "\n",
    "❌ Negative Findings :-\n",
    "* A segment of customers still shows high utilization (>40%), which indicates over-dependence on credit and higher default risk.\n",
    "* Very low utilization (<22%) by some customers may signal underutilization, which could reduce their chances of improving credit scores.\n",
    "* Since most customers cluster around 30–35%, risk may be underestimated if institutions rely only on averages without considering extreme cases."
   ]
  },
  {
   "cell_type": "code",
   "execution_count": null,
   "id": "3c76bffa-d1ca-412d-a782-2f777985d785",
   "metadata": {},
   "outputs": [],
   "source": []
  },
  {
   "cell_type": "markdown",
   "id": "d1551dd2-dab0-4979-bc22-f07a5e592166",
   "metadata": {},
   "source": [
    "# Visualization by Bivariate Analysis of Credit Score and Credit History Age Column"
   ]
  },
  {
   "cell_type": "markdown",
   "id": "7442e9ce-ea05-4c63-9b9d-43db35c266d4",
   "metadata": {},
   "source": [
    "* A boxplot is perfect here because it shows both distribution and exceptions in credit history across categories.\n",
    "* It highlights that while credit history age is a factor, it is not the only determinant of credit score.\n",
    "* Helps visualize credit maturity patterns across customer segments."
   ]
  },
  {
   "cell_type": "code",
   "execution_count": 129,
   "id": "20d274b1-c7e3-45d0-b07a-d1ab1b40c42d",
   "metadata": {},
   "outputs": [
    {
     "data": {
      "text/plain": [
       "Credit_History_Age\n",
       "190    488\n",
       "232    485\n",
       "191    484\n",
       "215    483\n",
       "213    483\n",
       "      ... \n",
       "3       21\n",
       "2       15\n",
       "403     15\n",
       "404     15\n",
       "1        2\n",
       "Name: count, Length: 404, dtype: int64"
      ]
     },
     "execution_count": 129,
     "metadata": {},
     "output_type": "execute_result"
    }
   ],
   "source": [
    "df_1['Credit_History_Age'].value_counts()"
   ]
  },
  {
   "cell_type": "code",
   "execution_count": 130,
   "id": "a199914a-700f-4987-8f9c-463444d452e5",
   "metadata": {},
   "outputs": [
    {
     "data": {
      "image/png": "[encoded data removed]",
      "text/plain": [
       "<Figure size 640x480 with 1 Axes>"
      ]
     },
     "metadata": {},
     "output_type": "display_data"
    }
   ],
   "source": [
    "sns.boxplot(x=\"Credit_Score\", y=\"Credit_History_Age\", data=df_1)\n",
    "plt.title(\"Credit History Age vs Credit Score\")\n",
    "plt.show()"
   ]
  },
  {
   "cell_type": "markdown",
   "id": "2a01db33-e74e-4853-99ab-a656ba0d4426",
   "metadata": {},
   "source": [
    "Findings :-\n",
    "1. Good Credit Score\n",
    "  * Outliers: A few customers with very low history (0–50 months), but still maintaining good scores (likely due to strong repayment behavior).\n",
    "  * Finding: Customers with good scores usually have longer and more stable credit histories.\n",
    "2. Standard Credit Score\n",
    "  * Spread: Quite wide, from near 0 up to ~400 months.\n",
    "  * Finding: Mixed group — some have long histories but inconsistent repayment, while others are still building credit.\n",
    "3. Poor Credit Score\n",
    "  * Spread: Many have shorter credit histories compared to Good/Standard.\n",
    "  * Finding: Poor credit scores are generally linked with shorter credit histories or mismanagement of credit."
   ]
  },
  {
   "cell_type": "markdown",
   "id": "7726c90e-3bbf-4266-8c81-e9233d7ffd8c",
   "metadata": {},
   "source": [
    "📉 Negative Findings :-\n",
    "* Customers with poor scores not only have shorter histories but also wider variability, suggesting instability.\n",
    "* The presence of long-history customers in the poor group shows that just having a long credit history doesn’t guarantee a good score.\n",
    "\n",
    "📈 Positive Findings :- \n",
    "* Strong evidence that long-term credit usage with consistency helps maintain a good score.\n",
    "* Customers in the Good group are clustered at higher history ages, showing stability and trustworthiness in financial behavior."
   ]
  },
  {
   "cell_type": "code",
   "execution_count": null,
   "id": "cb29921f-1fd6-48ea-8ca4-f322fb356145",
   "metadata": {},
   "outputs": [],
   "source": []
  },
  {
   "cell_type": "markdown",
   "id": "116a104e-fdd1-4357-9bec-5c6d2bd2b6d3",
   "metadata": {},
   "source": [
    "# Visualization by Bivariate Analysis of Payment of min Amount and Credit Score Column"
   ]
  },
  {
   "cell_type": "markdown",
   "id": "306c4fc1-2e59-4860-a06f-787b3c55b926",
   "metadata": {},
   "source": [
    "This chart is better here because it clearly shows the relationship between payment of minimum amount and credit score categories. By using a countplot with hue, you can directly compare how many individuals in each credit score group (Good, Standard, Poor) fall under each payment behavior (Yes, No, NM)."
   ]
  },
  {
   "cell_type": "code",
   "execution_count": 135,
   "id": "1d426e32-63a6-42ff-9b7d-4fd2e7ed76f6",
   "metadata": {},
   "outputs": [
    {
     "data": {
      "text/plain": [
       "Payment_of_Min_Amount\n",
       "Yes    52326\n",
       "No     35667\n",
       "NM     12007\n",
       "Name: count, dtype: int64"
      ]
     },
     "execution_count": 135,
     "metadata": {},
     "output_type": "execute_result"
    }
   ],
   "source": [
    "df_1['Payment_of_Min_Amount'].value_counts()"
   ]
  },
  {
   "cell_type": "code",
   "execution_count": 136,
   "id": "be200205-c97b-4a36-aea7-089272d354ba",
   "metadata": {},
   "outputs": [
    {
     "data": {
      "image/png": "[encoded data removed]",
      "text/plain": [
       "<Figure size 640x480 with 1 Axes>"
      ]
     },
     "metadata": {},
     "output_type": "display_data"
    }
   ],
   "source": [
    "sns.countplot(x=\"Payment_of_Min_Amount\", hue=\"Credit_Score\", data=df_1)\n",
    "plt.title(\"Payment of Minimum Amount vs Credit Score\")\n",
    "plt.show()"
   ]
  },
  {
   "cell_type": "markdown",
   "id": "d31e2942-1e77-497f-a640-ebfb4ee720fb",
   "metadata": {},
   "source": [
    "Findings -\n",
    "1. No (Did not pay minimum amount)\n",
    " * Good Credit Score: A fairly large group (~14k).\n",
    " * Standard Credit Score: Higher than Good (~17k).\n",
    " * Poor Credit Score: Smallest (~5k).\n",
    "👉 Suggests that not paying minimum amounts doesn’t always mean poor score — some still maintain good/standard scores, possibly due to paying more than minimum or clearing balances fully.\n",
    "\n",
    "2. NM (Not Mentioned / Missing info)\n",
    " * Lower overall count across groups.\n",
    " * Distribution: Standard > Poor ≈ Good.\n",
    "👉 Missing or irregular data, but not a strong pattern.\n",
    "\n",
    "3. Yes (Paid minimum amount)\n",
    " * Standard Credit Score: Highest count (~30k).\n",
    " * Poor Credit Score: Very high too (~21k).\n",
    " * Good Credit Score: Very low (~2k).\n",
    "👉 Customers who rely on minimum payments are mostly Standard or Poor scorers. Very few Good scorers do this."
   ]
  },
  {
   "cell_type": "markdown",
   "id": "6f4b6adf-ba90-40dc-b62c-914ad17f189c",
   "metadata": {},
   "source": [
    "✅ Positive Findings :-\n",
    " * Good scorers avoid paying only minimum amounts.\n",
    " * Customers with disciplined repayment beyond minimums build better credit.\n",
    "\n",
    "📉 Negative Findings :-\n",
    " * Heavy reliance on minimum payments correlates with poor credit scores.\n",
    " * Suggests these customers may struggle with debt or high utilization."
   ]
  },
  {
   "cell_type": "code",
   "execution_count": null,
   "id": "78a68aea-81c8-42d4-a732-3a4f31d24cc2",
   "metadata": {},
   "outputs": [],
   "source": []
  },
  {
   "cell_type": "markdown",
   "id": "df3c67db-1f89-4286-b07d-3cb26eef4ef1",
   "metadata": {},
   "source": [
    "# Visualization by Univariate Analysis of Payment Behaviour Column"
   ]
  },
  {
   "cell_type": "markdown",
   "id": "f4d356f6-8fd8-4be3-a9e3-cb0838408bba",
   "metadata": {},
   "source": [
    "This chart is better here because it clearly shows the distribution of different payment behaviour categories and makes it easy to compare their frequency. Since the data is categorical and not continuous, a horizontal countplot works well—it allows each category to be displayed distinctly, with the length of the bars directly representing the number of occurrences."
   ]
  },
  {
   "cell_type": "code",
   "execution_count": 141,
   "id": "135c9ef0-1e68-43a2-8597-80d2afbc0bd7",
   "metadata": {},
   "outputs": [
    {
     "data": {
      "image/png": "[encoded data removed]",
      "text/plain": [
       "<Figure size 640x480 with 1 Axes>"
      ]
     },
     "metadata": {},
     "output_type": "display_data"
    }
   ],
   "source": [
    "sns.countplot(y=\"Payment_Behaviour\", data=df_1, order=df_1['Payment_Behaviour'].value_counts().index,palette='coolwarm')\n",
    "plt.title(\"Payment Behaviour Distribution\",fontsize=20)\n",
    "plt.show()"
   ]
  },
  {
   "cell_type": "markdown",
   "id": "206c4db0-fe1e-432c-a5e4-c01142c9425b",
   "metadata": {},
   "source": [
    "📈 Findings -\n",
    "* Most common group:\n",
    "Customers are low spenders with small repayments, meaning they are conservative and less risky.\n",
    "* High-value responsible customers:\n",
    "The High_spent_Large_value_payments group shows financially strong individuals (good for banks).\n",
    "* Risky group:\n",
    "High_spent_Small_value_payments → they spend a lot but repay little, making them credit-risky.\n",
    "* Conservative payers:\n",
    "Low_spent_Large_value_payments → these may be overcautious customers who prefer repaying more than they spend."
   ]
  },
  {
   "cell_type": "markdown",
   "id": "5e556fab-09a9-4c9c-a696-6ab9b241545e",
   "metadata": {},
   "source": [
    "✅ Positive Findings :-\n",
    " * Large population falls into low-spend, small-payments, indicating safe but low-revenue customers.\n",
    " * A healthy group of high-spent, large-payments customers exists, showing profitable and reliable users.\n",
    "\n",
    "📉 Negative Findings :-\n",
    " * High-spent, small-payments group could contribute to defaults or poor credit scores.\n",
    " * The low-spent, large-payments group is less risky but not profitable for lenders (low spending)."
   ]
  },
  {
   "cell_type": "code",
   "execution_count": null,
   "id": "84796ab9-6825-4d5a-b84a-fa2213f8ce12",
   "metadata": {},
   "outputs": [],
   "source": []
  },
  {
   "cell_type": "markdown",
   "id": "86fe4670-7b13-4e3e-a51e-da365920e4fd",
   "metadata": {},
   "source": [
    "# Visualization by Bivariate Analysis of Credit Score and Monthly Balance Column"
   ]
  },
  {
   "cell_type": "markdown",
   "id": "2f004600-697d-4f77-b268-0ba5b39e2b9f",
   "metadata": {},
   "source": [
    "This boxplot is better because it provides a detailed view of how Monthly Balance is distributed across different Credit Score categories."
   ]
  },
  {
   "cell_type": "code",
   "execution_count": 146,
   "id": "be691876-5baf-4685-bf2d-6a3671af7489",
   "metadata": {},
   "outputs": [
    {
     "data": {
      "text/plain": [
       "Monthly_Balance\n",
       "280.32     14\n",
       "281.21     14\n",
       "285.05     13\n",
       "281.61     13\n",
       "301.30     13\n",
       "           ..\n",
       "1131.56     1\n",
       "1081.28     1\n",
       "902.31      1\n",
       "1134.75     1\n",
       "479.87      1\n",
       "Name: count, Length: 48423, dtype: int64"
      ]
     },
     "execution_count": 146,
     "metadata": {},
     "output_type": "execute_result"
    }
   ],
   "source": [
    "df_1['Monthly_Balance'].value_counts()"
   ]
  },
  {
   "cell_type": "code",
   "execution_count": 147,
   "id": "eccaff7f-a55e-4feb-b3ed-3a9a8416e4e8",
   "metadata": {},
   "outputs": [
    {
     "data": {
      "text/plain": [
       "Credit_Score\n",
       "Standard    53174\n",
       "Poor        28998\n",
       "Good        17828\n",
       "Name: count, dtype: int64"
      ]
     },
     "execution_count": 147,
     "metadata": {},
     "output_type": "execute_result"
    }
   ],
   "source": [
    "df_1['Credit_Score'].value_counts()"
   ]
  },
  {
   "cell_type": "code",
   "execution_count": 148,
   "id": "b9c100d1-aa89-4a82-98d7-613b6ad2e427",
   "metadata": {},
   "outputs": [
    {
     "data": {
      "image/png": "[encoded data removed]",
      "text/plain": [
       "<Figure size 640x480 with 1 Axes>"
      ]
     },
     "metadata": {},
     "output_type": "display_data"
    }
   ],
   "source": [
    "sns.boxplot(x=\"Credit_Score\", y=\"Monthly_Balance\", data=df_1,palette='twilight')\n",
    "plt.title(\"Monthly Balance vs Credit Score\", fontsize=20)\n",
    "plt.show()"
   ]
  },
  {
   "cell_type": "markdown",
   "id": "39459370-1e64-4477-929f-dd1ff1f9826b",
   "metadata": {},
   "source": [
    "Findings -\n",
    "* Higher Monthly Balance → Better Credit Score\n",
    "  (Customers who maintain higher balances are more likely to fall in the Good credit score category.)\n",
    "* Standard scorers are in the middle, maintaining moderate balances.\n",
    "* Poor scorers often have low balances and limited financial cushion, making them riskier borrowers."
   ]
  },
  {
   "cell_type": "markdown",
   "id": "861571a9-a88c-4571-817f-841465cc6a8c",
   "metadata": {},
   "source": [
    "✅ Positive Findings :-\n",
    "* Customers with good credit scores have stronger financial health, with higher average balances and more cushion.\n",
    "* The distribution suggests a clear financial behavior pattern linked to credit score.\n",
    "\n",
    "📉 Negative Findings :-\n",
    "* Poor scorers consistently show low balances, signaling repayment stress and possible defaults.\n",
    "* Outliers in good scorers may indicate income imbalance — while some maintain very high balances, others barely keep the minimum."
   ]
  },
  {
   "cell_type": "markdown",
   "id": "0c2cf378-5673-4d0d-98af-0b8fc1cecbdc",
   "metadata": {},
   "source": [
    "# Conclusion :-"
   ]
  },
  {
   "cell_type": "markdown",
   "id": "fc8f8fff-6104-4c6d-bb45-62351c46df65",
   "metadata": {},
   "source": [
    "* Credit History Age: Longer credit history is generally linked to better credit scores.\n",
    "* Payment of Minimum Amount: People who regularly pay the minimum amount tend to have poorer credit scores.\n",
    "* Number of Loans & Credit Cards: Too many loans or credit cards often lowers the credit score.\n",
    "* Income & Salary: Higher income alone does not guarantee a good credit score—it depends more on spending and repayment behavior.\n",
    "* Credit Utilization: Higher utilization ratios negatively impact credit scores.\n",
    "    \n",
    "Final Insight:\n",
    "Good credit scores are strongly associated with responsible repayment behavior, low outstanding debt, controlled credit utilization, and longer credit history rather than just high income.\n"
   ]
  },
  {
   "cell_type": "code",
   "execution_count": null,
   "id": "6be83b56-f43c-4023-a632-662f674d03a0",
   "metadata": {},
   "outputs": [],
   "source": []
  }
 ],
 "metadata": {
  "kernelspec": {
   "display_name": "Python 3 (ipykernel)",
   "language": "python",
   "name": "python3"
  },
  "language_info": {
   "codemirror_mode": {
    "name": "ipython",
    "version": 3
   },
   "file_extension": ".py",
   "mimetype": "text/x-python",
   "name": "python",
   "nbconvert_exporter": "python",
   "pygments_lexer": "ipython3",
   "version": "3.12.4"
  }
 },
 "nbformat": 4,
 "nbformat_minor": 5
}
